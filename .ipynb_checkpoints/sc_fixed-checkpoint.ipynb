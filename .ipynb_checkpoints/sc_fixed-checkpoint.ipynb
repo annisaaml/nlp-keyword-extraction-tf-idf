{
 "cells": [
  {
   "cell_type": "markdown",
   "id": "Yheq299a3jvt",
   "metadata": {
    "id": "Yheq299a3jvt"
   },
   "source": [
    "بِسْمِ اللَّهِ الرَّحْمَنِ الرَّحِيْم"
   ]
  },
  {
   "cell_type": "markdown",
   "id": "b10dd6b8",
   "metadata": {
    "id": "b10dd6b8"
   },
   "source": [
    "# **I. Keyword Extraction**"
   ]
  },
  {
   "cell_type": "code",
   "execution_count": 250,
   "id": "fdaf73fd",
   "metadata": {
    "colab": {
     "base_uri": "https://localhost:8080/",
     "height": 337
    },
    "id": "fdaf73fd",
    "outputId": "bcf40969-0ea3-460c-ef50-ac9d709513e2"
   },
   "outputs": [
    {
     "data": {
      "text/html": [
       "<div>\n",
       "<style scoped>\n",
       "    .dataframe tbody tr th:only-of-type {\n",
       "        vertical-align: middle;\n",
       "    }\n",
       "\n",
       "    .dataframe tbody tr th {\n",
       "        vertical-align: top;\n",
       "    }\n",
       "\n",
       "    .dataframe thead th {\n",
       "        text-align: right;\n",
       "    }\n",
       "</style>\n",
       "<table border=\"1\" class=\"dataframe\">\n",
       "  <thead>\n",
       "    <tr style=\"text-align: right;\">\n",
       "      <th></th>\n",
       "      <th>RATING</th>\n",
       "      <th>CATEGORY</th>\n",
       "      <th>PRODUCT</th>\n",
       "      <th>BRAND</th>\n",
       "      <th>DESC</th>\n",
       "      <th>PRICE</th>\n",
       "      <th>ingredients</th>\n",
       "    </tr>\n",
       "  </thead>\n",
       "  <tbody>\n",
       "    <tr>\n",
       "      <th>0</th>\n",
       "      <td>4.0</td>\n",
       "      <td>serum</td>\n",
       "      <td>Niacinamide 10% + Zinc 1%</td>\n",
       "      <td>The Ordinary</td>\n",
       "      <td>The Ordinary Niacinamide 10% + Zinc 1% menyama...</td>\n",
       "      <td>157000</td>\n",
       "      <td>Aqua (Water), Niacinamide, Zinc PCA, Tamarind...</td>\n",
       "    </tr>\n",
       "    <tr>\n",
       "      <th>1</th>\n",
       "      <td>4.3</td>\n",
       "      <td>serum</td>\n",
       "      <td>Niacinamide + Moisture Beet Serum</td>\n",
       "      <td>Somethinc</td>\n",
       "      <td>Somethinc Niacinamide + Moisture Beet Serum me...</td>\n",
       "      <td>115000</td>\n",
       "      <td>Aqua, Allantoin, edta, Niacinamide, hydroxyet...</td>\n",
       "    </tr>\n",
       "    <tr>\n",
       "      <th>2</th>\n",
       "      <td>4.7</td>\n",
       "      <td>serum</td>\n",
       "      <td>N10-Dose+ Brightening Serum</td>\n",
       "      <td>Whitelab</td>\n",
       "      <td>Whitelab N10-Dose+ Brightening Serum merupakan...</td>\n",
       "      <td>75000</td>\n",
       "      <td>Aqua, Propylene Glycol, Niacinamide, Ethyl Alc...</td>\n",
       "    </tr>\n",
       "    <tr>\n",
       "      <th>3</th>\n",
       "      <td>4.8</td>\n",
       "      <td>serum</td>\n",
       "      <td>C White Lightening Serum</td>\n",
       "      <td>Azarine Cosmetics</td>\n",
       "      <td>Azarine Cosmetics C White Lightening Serum ada...</td>\n",
       "      <td>220000</td>\n",
       "      <td>Kakadu Plum, Lemon, Niacinamide, Papaya, Aloe...</td>\n",
       "    </tr>\n",
       "    <tr>\n",
       "      <th>4</th>\n",
       "      <td>4.3</td>\n",
       "      <td>serum</td>\n",
       "      <td>Advanced Snail 96 Mucin Power Essence</td>\n",
       "      <td>Cosrx</td>\n",
       "      <td>Cosrx Advanced Snail 96 Mucin Power Essence di...</td>\n",
       "      <td>47500</td>\n",
       "      <td>Snail Secretion Filtrate, Betaine, Butylene G...</td>\n",
       "    </tr>\n",
       "  </tbody>\n",
       "</table>\n",
       "</div>"
      ],
      "text/plain": [
       "   RATING CATEGORY                                PRODUCT              BRAND  \\\n",
       "0     4.0    serum              Niacinamide 10% + Zinc 1%       The Ordinary   \n",
       "1     4.3    serum      Niacinamide + Moisture Beet Serum          Somethinc   \n",
       "2     4.7    serum            N10-Dose+ Brightening Serum           Whitelab   \n",
       "3     4.8    serum               C White Lightening Serum  Azarine Cosmetics   \n",
       "4     4.3    serum  Advanced Snail 96 Mucin Power Essence              Cosrx   \n",
       "\n",
       "                                                DESC   PRICE  \\\n",
       "0  The Ordinary Niacinamide 10% + Zinc 1% menyama...  157000   \n",
       "1  Somethinc Niacinamide + Moisture Beet Serum me...  115000   \n",
       "2  Whitelab N10-Dose+ Brightening Serum merupakan...   75000   \n",
       "3  Azarine Cosmetics C White Lightening Serum ada...  220000   \n",
       "4  Cosrx Advanced Snail 96 Mucin Power Essence di...   47500   \n",
       "\n",
       "                                         ingredients  \n",
       "0   Aqua (Water), Niacinamide, Zinc PCA, Tamarind...  \n",
       "1   Aqua, Allantoin, edta, Niacinamide, hydroxyet...  \n",
       "2  Aqua, Propylene Glycol, Niacinamide, Ethyl Alc...  \n",
       "3   Kakadu Plum, Lemon, Niacinamide, Papaya, Aloe...  \n",
       "4   Snail Secretion Filtrate, Betaine, Butylene G...  "
      ]
     },
     "execution_count": 250,
     "metadata": {},
     "output_type": "execute_result"
    }
   ],
   "source": [
    "import pandas as pd\n",
    "import warnings\n",
    "warnings.filterwarnings('ignore')\n",
    "\n",
    "df_idf = pd.read_excel('sc-price.xlsx')\n",
    "df_idf[['DESC','ingredients']]= df_idf['DESC'].str.split('Ingredients:\\n', expand=True)\n",
    "df_idf.head()"
   ]
  },
  {
   "cell_type": "code",
   "execution_count": 251,
   "id": "2fedc5eb",
   "metadata": {
    "colab": {
     "base_uri": "https://localhost:8080/"
    },
    "id": "2fedc5eb",
    "outputId": "3c986ab2-85c4-4b0a-bd25-3e8c4c6793e9"
   },
   "outputs": [
    {
     "name": "stdout",
     "output_type": "stream",
     "text": [
      "<class 'pandas.core.frame.DataFrame'>\n",
      "RangeIndex: 209 entries, 0 to 208\n",
      "Data columns (total 7 columns):\n",
      " #   Column       Non-Null Count  Dtype  \n",
      "---  ------       --------------  -----  \n",
      " 0   RATING       209 non-null    float64\n",
      " 1   CATEGORY     209 non-null    object \n",
      " 2   PRODUCT      209 non-null    object \n",
      " 3   BRAND        209 non-null    object \n",
      " 4   DESC         209 non-null    object \n",
      " 5   PRICE        209 non-null    object \n",
      " 6   ingredients  209 non-null    object \n",
      "dtypes: float64(1), object(6)\n",
      "memory usage: 11.6+ KB\n"
     ]
    }
   ],
   "source": [
    "df_idf.info()"
   ]
  },
  {
   "cell_type": "markdown",
   "id": "GT0zD_TS46xB",
   "metadata": {
    "id": "GT0zD_TS46xB"
   },
   "source": [
    "## 1.1 Case Folding"
   ]
  },
  {
   "cell_type": "code",
   "execution_count": 252,
   "id": "a8fcf7dc",
   "metadata": {
    "id": "a8fcf7dc"
   },
   "outputs": [],
   "source": [
    "import re\n",
    "def pre_process(text):\n",
    "\n",
    "    # lowercase\n",
    "    text=text.lower()\n",
    "\n",
    "    #remove tags\n",
    "    text=re.sub(\"</?.*?>\",\" <> \",text)\n",
    "\n",
    "    # remove special characters and digits\n",
    "    text=re.sub(\"(\\\\d|\\\\W)+\",\" \",text)\n",
    "\n",
    "    return text\n",
    "\n",
    "df_idf['DESC'] = df_idf['DESC'].apply(lambda x:pre_process(x))"
   ]
  },
  {
   "cell_type": "markdown",
   "id": "e4790584",
   "metadata": {
    "id": "e4790584"
   },
   "source": [
    "## 1.2 Tokenizing - Stopword Removal - Count Vectorizer"
   ]
  },
  {
   "cell_type": "markdown",
   "id": "c884eadb",
   "metadata": {
    "id": "c884eadb"
   },
   "source": [
    "### 1.2.1 CountVectorizer to create a vocabulary and generate word counts"
   ]
  },
  {
   "cell_type": "markdown",
   "id": "45893e1f",
   "metadata": {
    "id": "45893e1f"
   },
   "source": [
    "CountVectorizer akan menghitung frekuensi kemunculan setiap kata atau token pada setiap dokumen `df_idf['text']` dalam bentuk sparse matriks `word_count_vector.shape` yang merupakan representasi dari jumlah, artinya setiap kolom mewakili kata dalam kosakata dan setiap baris mewakili dokumen dalam kumpulan data dimana nilainya adalah jumlah kata. Dengan representasi ini, hitungan beberapa kata bisa menjadi 0 jika kata tersebut tidak muncul di dokumen terkait."
   ]
  },
  {
   "cell_type": "code",
   "execution_count": 253,
   "id": "78f1d1e9",
   "metadata": {
    "colab": {
     "base_uri": "https://localhost:8080/"
    },
    "id": "78f1d1e9",
    "outputId": "3a823ebe-420d-4dc7-abfc-efa5e13bcd31"
   },
   "outputs": [
    {
     "data": {
      "text/plain": [
       "(209, 109)"
      ]
     },
     "execution_count": 253,
     "metadata": {},
     "output_type": "execute_result"
    }
   ],
   "source": [
    "from sklearn.feature_extraction.text import CountVectorizer\n",
    "import re\n",
    "\n",
    "with open('stpwrd.txt', 'r') as file:\n",
    "    stopwords = [word.strip() for word in file.readlines()]\n",
    "\n",
    "docs=df_idf['DESC'].tolist()\n",
    "\n",
    "cv=CountVectorizer(min_df=0.07,stop_words=stopwords,ngram_range=(1,2))\n",
    "word_count_vector=cv.fit_transform(docs)\n",
    "word_count_vector.shape"
   ]
  },
  {
   "cell_type": "markdown",
   "id": "852e7e93",
   "metadata": {
    "id": "852e7e93"
   },
   "source": [
    "Bentuk vektor yang dihasilkan adalah **(209, 109)** karena memiliki 209 dokumen dalam kumpulan data (baris) dan ukuran kosakatanya adalah 109 artinya memiliki 20489 kata unik (kolom) dalam kumpulan data dikurangi stopwords. Untuk membatasi ukuran kosakata dengan menyetting `min_features=vocab_size` saat membuat `instance CountVectorizer`."
   ]
  },
  {
   "cell_type": "markdown",
   "id": "9f76f9b4",
   "metadata": {
    "id": "9f76f9b4"
   },
   "source": [
    "## 1.3 TF-IDF Transformer to Compute Inverse Document Frequency (IDF)"
   ]
  },
  {
   "cell_type": "markdown",
   "id": "7e4f4108",
   "metadata": {
    "id": "7e4f4108"
   },
   "source": [
    "Mengambil sparse matrix dari `CountVectorizer` untuk menghasilkan IDF saat memanggil fit. IDF harus didasarkan pada kumpulan besar dan harus mewakili teks yang akan digunakan untuk mengekstrak keyword."
   ]
  },
  {
   "cell_type": "code",
   "execution_count": 254,
   "id": "be5e58bc",
   "metadata": {
    "colab": {
     "base_uri": "https://localhost:8080/",
     "height": 74
    },
    "id": "be5e58bc",
    "outputId": "ddffc870-7d5f-4048-9bcc-6bb8e321728f"
   },
   "outputs": [
    {
     "data": {
      "text/plain": [
       "TfidfTransformer()"
      ]
     },
     "execution_count": 254,
     "metadata": {},
     "output_type": "execute_result"
    }
   ],
   "source": [
    "from sklearn.feature_extraction.text import TfidfTransformer\n",
    "\n",
    "tfidf_transformer=TfidfTransformer(smooth_idf=True,use_idf=True)\n",
    "tfidf_transformer.fit(word_count_vector)"
   ]
  },
  {
   "cell_type": "code",
   "execution_count": 255,
   "id": "bbf3d220",
   "metadata": {
    "colab": {
     "base_uri": "https://localhost:8080/"
    },
    "id": "bbf3d220",
    "outputId": "0fc42e8b-4d67-48ab-bc8b-589d455f8b03"
   },
   "outputs": [
    {
     "data": {
      "text/plain": [
       "array([3.57451881, 3.40266855, 2.70952137, 3.30258509, 3.45673577,\n",
       "       3.57451881, 3.40266855, 3.51389419, 2.58590742, 2.39586381,\n",
       "       3.51389419, 2.63353546, 2.94591015, 3.57451881, 2.91312033,\n",
       "       3.40266855, 3.51389419, 3.45673577, 3.25606508, 3.35137526,\n",
       "       2.82074701, 2.68354588, 3.40266855, 2.70952137, 3.25606508,\n",
       "       1.59351734, 1.62860866, 2.73618962, 3.40266855, 2.39586381,\n",
       "       3.1690537 , 3.51389419, 2.14241491, 3.35137526, 2.65822808,\n",
       "       1.        , 2.73618962, 3.57451881, 3.57451881, 2.28666452,\n",
       "       3.51389419, 3.51389419, 2.91312033, 2.54044504, 2.85059997,\n",
       "       2.60943791, 3.21161331, 2.2039728 , 3.57451881, 2.91312033,\n",
       "       2.68354588, 3.40266855, 2.94591015, 3.30258509, 2.15745279,\n",
       "       2.37681562, 2.4152819 , 2.70952137, 3.1690537 , 2.32175584,\n",
       "       3.30258509, 3.40266855, 2.76358859, 3.57451881, 3.35137526,\n",
       "       3.57451881, 2.94591015, 3.12823171, 3.30258509, 3.51389419,\n",
       "       2.79175947, 3.51389419, 3.35137526, 3.51389419, 2.33977435,\n",
       "       3.40266855, 2.68354588, 3.51389419, 2.94591015, 2.9798117 ,\n",
       "       3.30258509, 2.54044504, 3.21161331, 3.45673577, 2.85059997,\n",
       "       3.30258509, 2.88137163, 2.94591015, 2.60943791, 2.85059997,\n",
       "       3.51389419, 3.51389419, 2.85059997, 2.85059997, 1.61971971,\n",
       "       1.62860866, 2.76358859, 3.51389419, 2.88137163, 2.88137163,\n",
       "       2.9798117 , 2.88137163, 3.30258509, 2.5629179 , 3.08901099,\n",
       "       2.4152819 , 1.29086173, 3.45673577, 2.94591015])"
      ]
     },
     "execution_count": 255,
     "metadata": {},
     "output_type": "execute_result"
    }
   ],
   "source": [
    "tfidf_transformer.idf_"
   ]
  },
  {
   "cell_type": "markdown",
   "id": "af0b2378",
   "metadata": {
    "id": "af0b2378"
   },
   "source": [
    "## 1.4 Computing TF-IDF and Extracting Keywords"
   ]
  },
  {
   "cell_type": "markdown",
   "id": "a4cf53ff",
   "metadata": {
    "id": "a4cf53ff"
   },
   "source": [
    "Setelah menghitung `IDF` selanjutnya menghitung `TF-IDF` dan mengekstrak keywword teratas. Dimulai dengan membaca file pengujian, mengekstrak bidang yang diperlukan (product dan desc) dan memasukkan teks ke dalam daftar."
   ]
  },
  {
   "cell_type": "code",
   "execution_count": 256,
   "id": "c5163b13",
   "metadata": {
    "id": "c5163b13"
   },
   "outputs": [],
   "source": [
    "# read test docs into a dataframe and concatenate product and desc\n",
    "df_test=pd.read_excel('sc-price.xlsx')\n",
    "df_test['text'] = df_test['DESC'].apply(lambda x:pre_process(x))\n",
    "\n",
    "# get test docs into a list\n",
    "docs_test=df_test['DESC'].tolist()"
   ]
  },
  {
   "cell_type": "code",
   "execution_count": 257,
   "id": "ce293a5a",
   "metadata": {
    "id": "ce293a5a"
   },
   "outputs": [],
   "source": [
    "def sort_coo(coo_matrix):\n",
    "    tuples = zip(coo_matrix.col, coo_matrix.data)\n",
    "    return sorted(tuples, key=lambda x: (x[1], x[0]), reverse=True)\n",
    "\n",
    "def extract_topn_from_vector(feature_names, sorted_items, topn=10):\n",
    "    \"\"\"get the feature names and tf-idf score of top n items\"\"\"\n",
    "\n",
    "    #use only topn items from vector\n",
    "    sorted_items = sorted_items[:topn]\n",
    "\n",
    "    score_vals = []\n",
    "    feature_vals = []\n",
    "\n",
    "    for idx, score in sorted_items:\n",
    "        fname = feature_names[idx]\n",
    "\n",
    "        #keep track of feature name and its corresponding score\n",
    "        score_vals.append(round(score, 3))\n",
    "        feature_vals.append(feature_names[idx])\n",
    "\n",
    "    #create a tuples of feature,score\n",
    "    results= {}\n",
    "    for idx in range(len(feature_vals)):\n",
    "        results[feature_vals[idx]]=score_vals[idx]\n",
    "\n",
    "    return results"
   ]
  },
  {
   "cell_type": "markdown",
   "id": "06a96925",
   "metadata": {
    "id": "06a96925"
   },
   "source": [
    "Langkah selanjutnya adalah menghitung nilai **tf-idf** untuk dokumen tertentu dalam set pengujian dengan memanggil `tfidf_transformer.transform(...)`. Ini menghasilkan vektor skor **tf-idf**. Lalu mengurutkan kata-kata dalam vektor dalam urutan menurun dari nilai **tf-idf** dan kemudian mengulang untuk mengekstrak _item top-n_ dengan nama fitur yang sesuai. Pada contoh di bawah ini keyword yang diekstrak adalah dokumen pertama dalam pengujian.\n",
    "\n",
    "`Metode sort_coo(...)` pada dasarnya mengurutkan nilai dalam vektor sambil mempertahankan indeks kolom. Setelah memiliki indeks kolom maka sangat mudah untuk mencari nilai kata yang sesuai seperti di `extract_topn_from_vector(...)` dimana `feature_vals.append(feature_names[idx])`."
   ]
  },
  {
   "cell_type": "code",
   "execution_count": 258,
   "id": "e24107c8",
   "metadata": {
    "id": "e24107c8"
   },
   "outputs": [],
   "source": [
    "# you only needs to do this once\n",
    "feature_names=cv.get_feature_names_out()\n",
    "\n",
    "# get the document that we want to extract keywords from\n",
    "doc=docs_test[0]\n",
    "\n",
    "#generate tf-idf for the given document\n",
    "tf_idf_vector=tfidf_transformer.transform(cv.transform([doc]))\n",
    "\n",
    "#sort the tf-idf vectors by descending order of scores\n",
    "sorted_items=sort_coo(tf_idf_vector.tocoo())\n",
    "\n",
    "#extract only the top n; n here is 10\n",
    "keywords=extract_topn_from_vector(feature_names,sorted_items,10)"
   ]
  },
  {
   "cell_type": "markdown",
   "id": "acea72ea",
   "metadata": {
    "id": "acea72ea"
   },
   "source": [
    "## 1.5 Generate keywords for a batch of documents"
   ]
  },
  {
   "cell_type": "code",
   "execution_count": 259,
   "id": "830012c0",
   "metadata": {
    "colab": {
     "base_uri": "https://localhost:8080/",
     "height": 423
    },
    "id": "830012c0",
    "outputId": "effb3218-e4d0-4456-edae-3d5a247211ad"
   },
   "outputs": [
    {
     "data": {
      "text/html": [
       "<div>\n",
       "<style scoped>\n",
       "    .dataframe tbody tr th:only-of-type {\n",
       "        vertical-align: middle;\n",
       "    }\n",
       "\n",
       "    .dataframe tbody tr th {\n",
       "        vertical-align: top;\n",
       "    }\n",
       "\n",
       "    .dataframe thead th {\n",
       "        text-align: right;\n",
       "    }\n",
       "</style>\n",
       "<table border=\"1\" class=\"dataframe\">\n",
       "  <thead>\n",
       "    <tr style=\"text-align: right;\">\n",
       "      <th></th>\n",
       "      <th>doc</th>\n",
       "      <th>keywords</th>\n",
       "    </tr>\n",
       "  </thead>\n",
       "  <tbody>\n",
       "    <tr>\n",
       "      <th>0</th>\n",
       "      <td>the ordinary niacinamide zinc menyamarkan noda...</td>\n",
       "      <td>{'wajah': 0.385, 'bekas jerawat': 0.356, 'meny...</td>\n",
       "    </tr>\n",
       "    <tr>\n",
       "      <th>1</th>\n",
       "      <td>somethinc niacinamide moisture beet serum meru...</td>\n",
       "      <td>{'mengatasi': 0.433, 'kulit': 0.388, 'menyamar...</td>\n",
       "    </tr>\n",
       "    <tr>\n",
       "      <th>2</th>\n",
       "      <td>whitelab n dose brightening serum merupakan re...</td>\n",
       "      <td>{'kulit': 0.37, 'menyamarkan': 0.344, 'mencera...</td>\n",
       "    </tr>\n",
       "    <tr>\n",
       "      <th>3</th>\n",
       "      <td>azarine cosmetics c white lightening serum ada...</td>\n",
       "      <td>{'kulit': 0.591, 'mencerahkan kulit': 0.279, '...</td>\n",
       "    </tr>\n",
       "    <tr>\n",
       "      <th>4</th>\n",
       "      <td>cosrx advanced snail mucin power essence difor...</td>\n",
       "      <td>{'tekstur': 0.482, 'kulit': 0.335, 'sehat': 0....</td>\n",
       "    </tr>\n",
       "    <tr>\n",
       "      <th>...</th>\n",
       "      <td>...</td>\n",
       "      <td>...</td>\n",
       "    </tr>\n",
       "    <tr>\n",
       "      <th>204</th>\n",
       "      <td>safi white expert deep exfoliator adalah pembe...</td>\n",
       "      <td>{'membersihkan': 0.409, 'pori': 0.331, 'wajah'...</td>\n",
       "    </tr>\n",
       "    <tr>\n",
       "      <th>205</th>\n",
       "      <td>neogen bio peel gauze peeling wine dikemas dal...</td>\n",
       "      <td>{'wajah': 0.357, 'kulit': 0.332, 'sel': 0.316,...</td>\n",
       "    </tr>\n",
       "    <tr>\n",
       "      <th>206</th>\n",
       "      <td>paula s choice skin perfecting bha liquid exfo...</td>\n",
       "      <td>{'pori': 0.615, 'pori pori': 0.315, 'sel': 0.3...</td>\n",
       "    </tr>\n",
       "    <tr>\n",
       "      <th>207</th>\n",
       "      <td>wardah exfoliating lotion merupakan lotion yan...</td>\n",
       "      <td>{'pori': 0.387, 'sel': 0.382, 'mengangkat sel'...</td>\n",
       "    </tr>\n",
       "    <tr>\n",
       "      <th>208</th>\n",
       "      <td>st ives energizing coconut coffee scrub adalah...</td>\n",
       "      <td>{'kulit kusam': 0.352, 'bersih kulit': 0.352, ...</td>\n",
       "    </tr>\n",
       "  </tbody>\n",
       "</table>\n",
       "<p>209 rows × 2 columns</p>\n",
       "</div>"
      ],
      "text/plain": [
       "                                                   doc  \\\n",
       "0    the ordinary niacinamide zinc menyamarkan noda...   \n",
       "1    somethinc niacinamide moisture beet serum meru...   \n",
       "2    whitelab n dose brightening serum merupakan re...   \n",
       "3    azarine cosmetics c white lightening serum ada...   \n",
       "4    cosrx advanced snail mucin power essence difor...   \n",
       "..                                                 ...   \n",
       "204  safi white expert deep exfoliator adalah pembe...   \n",
       "205  neogen bio peel gauze peeling wine dikemas dal...   \n",
       "206  paula s choice skin perfecting bha liquid exfo...   \n",
       "207  wardah exfoliating lotion merupakan lotion yan...   \n",
       "208  st ives energizing coconut coffee scrub adalah...   \n",
       "\n",
       "                                              keywords  \n",
       "0    {'wajah': 0.385, 'bekas jerawat': 0.356, 'meny...  \n",
       "1    {'mengatasi': 0.433, 'kulit': 0.388, 'menyamar...  \n",
       "2    {'kulit': 0.37, 'menyamarkan': 0.344, 'mencera...  \n",
       "3    {'kulit': 0.591, 'mencerahkan kulit': 0.279, '...  \n",
       "4    {'tekstur': 0.482, 'kulit': 0.335, 'sehat': 0....  \n",
       "..                                                 ...  \n",
       "204  {'membersihkan': 0.409, 'pori': 0.331, 'wajah'...  \n",
       "205  {'wajah': 0.357, 'kulit': 0.332, 'sel': 0.316,...  \n",
       "206  {'pori': 0.615, 'pori pori': 0.315, 'sel': 0.3...  \n",
       "207  {'pori': 0.387, 'sel': 0.382, 'mengangkat sel'...  \n",
       "208  {'kulit kusam': 0.352, 'bersih kulit': 0.352, ...  \n",
       "\n",
       "[209 rows x 2 columns]"
      ]
     },
     "execution_count": 259,
     "metadata": {},
     "output_type": "execute_result"
    }
   ],
   "source": [
    "tf_idf_vector=tfidf_transformer.transform(cv.transform(docs_test))\n",
    "\n",
    "results=[]\n",
    "for i in range(tf_idf_vector.shape[0]):\n",
    "\n",
    "    # get vector for a single document\n",
    "    curr_vector=tf_idf_vector[i]\n",
    "\n",
    "    #sort the tf-idf vector by descending order of scores\n",
    "    sorted_items=sort_coo(curr_vector.tocoo())\n",
    "\n",
    "    #extract only the top n; n here is 10\n",
    "    keywords=extract_topn_from_vector(feature_names,sorted_items,10)\n",
    "\n",
    "\n",
    "    results.append(keywords)\n",
    "\n",
    "df=pd.DataFrame(zip(docs,results),columns=['doc','keywords'])\n",
    "df"
   ]
  },
  {
   "cell_type": "code",
   "execution_count": 260,
   "id": "H8AbijEZfUnD",
   "metadata": {
    "id": "H8AbijEZfUnD"
   },
   "outputs": [],
   "source": [
    "df['keywords'] = df['keywords'].astype(str)"
   ]
  },
  {
   "cell_type": "markdown",
   "id": "8daa8083",
   "metadata": {
    "id": "8daa8083"
   },
   "source": [
    "---"
   ]
  },
  {
   "cell_type": "markdown",
   "id": "35bb9702",
   "metadata": {
    "id": "35bb9702"
   },
   "source": [
    "# **II. Keyword Assignment**"
   ]
  },
  {
   "cell_type": "code",
   "execution_count": 261,
   "id": "cc93f3ba",
   "metadata": {
    "id": "cc93f3ba"
   },
   "outputs": [],
   "source": [
    "import pandas as pd\n",
    "\n",
    "def assign_keywords(data, keyword_column, keywords):\n",
    "    data[keyword_column] = data[\"DESC\"].apply(lambda x: [word for word in x.split() if word.lower() in keywords])\n",
    "    return data\n",
    "\n",
    "data = pd.read_excel('sc-price.xlsx')\n",
    "keyword_column = \"skin_type\"\n",
    "keywords = [\"kering\", \"berminyak\", \"sensitif\", \"normal\", \"kombinasi\", \"semua\"]\n",
    "\n",
    "data = assign_keywords(data, keyword_column, keywords)\n",
    "data['skin_type'] = data['skin_type'].astype(str)"
   ]
  },
  {
   "cell_type": "code",
   "execution_count": 262,
   "id": "80058601",
   "metadata": {
    "colab": {
     "base_uri": "https://localhost:8080/"
    },
    "id": "80058601",
    "outputId": "060ee0e0-b2c9-4623-9b31-33a391033119"
   },
   "outputs": [
    {
     "data": {
      "text/plain": [
       "['Semua']                                      84\n",
       "['kering']                                     29\n",
       "['berminyak']                                  22\n",
       "['normal']                                     15\n",
       "['sensitif']                                   12\n",
       "['semua', 'Semua']                              9\n",
       "['sensitif', 'Semua']                           3\n",
       "['berminyak', 'Semua']                          2\n",
       "['kering', 'kering']                            2\n",
       "['kombinasi']                                   2\n",
       "['semua', 'sensitif', 'Semua']                  2\n",
       "['Semua', 'Kombinasi']                          1\n",
       "['kering', 'sensitif']                          1\n",
       "['kering', 'kering', 'berminyak']               1\n",
       "['semua', 'sensitif']                           1\n",
       "['kombinasi', 'Semua']                          1\n",
       "['berminyak', 'berminyak']                      1\n",
       "['normal', 'normal']                            1\n",
       "['kering', 'berminyak']                         1\n",
       "['berminyak', 'kombinasi']                      1\n",
       "['Normal']                                      1\n",
       "['berminyak', 'semua', 'normal']                1\n",
       "['normal', 'kering']                            1\n",
       "['berminyak', 'kering']                         1\n",
       "['Normal', 'Berminyak']                         1\n",
       "['semua']                                       1\n",
       "['semua', 'sensitif', 'Normal', 'Sensitif']     1\n",
       "['Kombinasi', 'normal']                         1\n",
       "['kering', 'normal']                            1\n",
       "['semua', 'normal']                             1\n",
       "['berminyak', 'Semua', 'berminyak']             1\n",
       "['sensitif', 'sensitif']                        1\n",
       "['semua', 'berminyak']                          1\n",
       "['kering', 'kering', 'kering']                  1\n",
       "['Semua', 'sensitif']                           1\n",
       "['Semua', 'kering']                             1\n",
       "['semua', 'kering']                             1\n",
       "['Kombinasi']                                   1\n",
       "Name: skin_type, dtype: int64"
      ]
     },
     "execution_count": 262,
     "metadata": {},
     "output_type": "execute_result"
    }
   ],
   "source": [
    "data['skin_type'].value_counts()"
   ]
  },
  {
   "cell_type": "code",
   "execution_count": 263,
   "id": "2d3bde19",
   "metadata": {
    "colab": {
     "base_uri": "https://localhost:8080/",
     "height": 49
    },
    "id": "2d3bde19",
    "outputId": "5a13690c-8ca0-46a3-d441-9b0847aacf0d",
    "scrolled": false
   },
   "outputs": [
    {
     "data": {
      "text/html": [
       "<div>\n",
       "<style scoped>\n",
       "    .dataframe tbody tr th:only-of-type {\n",
       "        vertical-align: middle;\n",
       "    }\n",
       "\n",
       "    .dataframe tbody tr th {\n",
       "        vertical-align: top;\n",
       "    }\n",
       "\n",
       "    .dataframe thead th {\n",
       "        text-align: right;\n",
       "    }\n",
       "</style>\n",
       "<table border=\"1\" class=\"dataframe\">\n",
       "  <thead>\n",
       "    <tr style=\"text-align: right;\">\n",
       "      <th></th>\n",
       "      <th>RATING</th>\n",
       "      <th>CATEGORY</th>\n",
       "      <th>PRODUCT</th>\n",
       "      <th>BRAND</th>\n",
       "      <th>DESC</th>\n",
       "      <th>PRICE</th>\n",
       "      <th>skin_type</th>\n",
       "    </tr>\n",
       "  </thead>\n",
       "  <tbody>\n",
       "  </tbody>\n",
       "</table>\n",
       "</div>"
      ],
      "text/plain": [
       "Empty DataFrame\n",
       "Columns: [RATING, CATEGORY, PRODUCT, BRAND, DESC, PRICE, skin_type]\n",
       "Index: []"
      ]
     },
     "execution_count": 263,
     "metadata": {},
     "output_type": "execute_result"
    }
   ],
   "source": [
    "(data[data['skin_type'].str.len() == 0])"
   ]
  },
  {
   "cell_type": "markdown",
   "id": "PvMsAMaOhKwB",
   "metadata": {
    "id": "PvMsAMaOhKwB"
   },
   "source": [
    "-----"
   ]
  },
  {
   "cell_type": "markdown",
   "id": "ucoxzTZ5uazY",
   "metadata": {
    "id": "ucoxzTZ5uazY"
   },
   "source": [
    "# **III. New Dataframe**"
   ]
  },
  {
   "cell_type": "markdown",
   "id": "sPWZnrsP0E4m",
   "metadata": {
    "id": "sPWZnrsP0E4m"
   },
   "source": [
    "## 3.1 Skin type dataframe"
   ]
  },
  {
   "cell_type": "code",
   "execution_count": 264,
   "id": "xcVKdQLTgK2Z",
   "metadata": {
    "colab": {
     "base_uri": "https://localhost:8080/",
     "height": 206
    },
    "id": "xcVKdQLTgK2Z",
    "outputId": "8427ea64-89d5-4758-d0f3-48f75ac0c00e"
   },
   "outputs": [
    {
     "data": {
      "text/html": [
       "<div>\n",
       "<style scoped>\n",
       "    .dataframe tbody tr th:only-of-type {\n",
       "        vertical-align: middle;\n",
       "    }\n",
       "\n",
       "    .dataframe tbody tr th {\n",
       "        vertical-align: top;\n",
       "    }\n",
       "\n",
       "    .dataframe thead th {\n",
       "        text-align: right;\n",
       "    }\n",
       "</style>\n",
       "<table border=\"1\" class=\"dataframe\">\n",
       "  <thead>\n",
       "    <tr style=\"text-align: right;\">\n",
       "      <th></th>\n",
       "      <th>RATING</th>\n",
       "      <th>CATEGORY</th>\n",
       "      <th>PRODUCT</th>\n",
       "      <th>BRAND</th>\n",
       "      <th>DESC</th>\n",
       "      <th>PRICE</th>\n",
       "      <th>skin_type</th>\n",
       "    </tr>\n",
       "  </thead>\n",
       "  <tbody>\n",
       "    <tr>\n",
       "      <th>0</th>\n",
       "      <td>4.0</td>\n",
       "      <td>serum</td>\n",
       "      <td>Niacinamide 10% + Zinc 1%</td>\n",
       "      <td>The Ordinary</td>\n",
       "      <td>The Ordinary Niacinamide 10% + Zinc 1% menyama...</td>\n",
       "      <td>157000</td>\n",
       "      <td>['normal']</td>\n",
       "    </tr>\n",
       "    <tr>\n",
       "      <th>1</th>\n",
       "      <td>4.3</td>\n",
       "      <td>serum</td>\n",
       "      <td>Niacinamide + Moisture Beet Serum</td>\n",
       "      <td>Somethinc</td>\n",
       "      <td>Somethinc Niacinamide + Moisture Beet Serum me...</td>\n",
       "      <td>115000</td>\n",
       "      <td>['Semua']</td>\n",
       "    </tr>\n",
       "    <tr>\n",
       "      <th>2</th>\n",
       "      <td>4.7</td>\n",
       "      <td>serum</td>\n",
       "      <td>N10-Dose+ Brightening Serum</td>\n",
       "      <td>Whitelab</td>\n",
       "      <td>Whitelab N10-Dose+ Brightening Serum merupakan...</td>\n",
       "      <td>75000</td>\n",
       "      <td>['Semua']</td>\n",
       "    </tr>\n",
       "    <tr>\n",
       "      <th>3</th>\n",
       "      <td>4.8</td>\n",
       "      <td>serum</td>\n",
       "      <td>C White Lightening Serum</td>\n",
       "      <td>Azarine Cosmetics</td>\n",
       "      <td>Azarine Cosmetics C White Lightening Serum ada...</td>\n",
       "      <td>220000</td>\n",
       "      <td>['Semua']</td>\n",
       "    </tr>\n",
       "    <tr>\n",
       "      <th>4</th>\n",
       "      <td>4.3</td>\n",
       "      <td>serum</td>\n",
       "      <td>Advanced Snail 96 Mucin Power Essence</td>\n",
       "      <td>Cosrx</td>\n",
       "      <td>Cosrx Advanced Snail 96 Mucin Power Essence di...</td>\n",
       "      <td>47500</td>\n",
       "      <td>['Semua']</td>\n",
       "    </tr>\n",
       "  </tbody>\n",
       "</table>\n",
       "</div>"
      ],
      "text/plain": [
       "   RATING CATEGORY                                PRODUCT              BRAND  \\\n",
       "0     4.0    serum              Niacinamide 10% + Zinc 1%       The Ordinary   \n",
       "1     4.3    serum      Niacinamide + Moisture Beet Serum          Somethinc   \n",
       "2     4.7    serum            N10-Dose+ Brightening Serum           Whitelab   \n",
       "3     4.8    serum               C White Lightening Serum  Azarine Cosmetics   \n",
       "4     4.3    serum  Advanced Snail 96 Mucin Power Essence              Cosrx   \n",
       "\n",
       "                                                DESC   PRICE   skin_type  \n",
       "0  The Ordinary Niacinamide 10% + Zinc 1% menyama...  157000  ['normal']  \n",
       "1  Somethinc Niacinamide + Moisture Beet Serum me...  115000   ['Semua']  \n",
       "2  Whitelab N10-Dose+ Brightening Serum merupakan...   75000   ['Semua']  \n",
       "3  Azarine Cosmetics C White Lightening Serum ada...  220000   ['Semua']  \n",
       "4  Cosrx Advanced Snail 96 Mucin Power Essence di...   47500   ['Semua']  "
      ]
     },
     "execution_count": 264,
     "metadata": {},
     "output_type": "execute_result"
    }
   ],
   "source": [
    "st = data.copy()\n",
    "st.head()"
   ]
  },
  {
   "cell_type": "markdown",
   "id": "4Cuzqhch0J8m",
   "metadata": {
    "id": "4Cuzqhch0J8m"
   },
   "source": [
    "### 3.1.1 Clean unnecessary characters"
   ]
  },
  {
   "cell_type": "code",
   "execution_count": 265,
   "id": "lksKczqcrhXY",
   "metadata": {
    "colab": {
     "base_uri": "https://localhost:8080/",
     "height": 423
    },
    "id": "lksKczqcrhXY",
    "outputId": "8eb5e363-70e6-48ac-bc31-3a01682a1b6f"
   },
   "outputs": [
    {
     "data": {
      "text/html": [
       "<div>\n",
       "<style scoped>\n",
       "    .dataframe tbody tr th:only-of-type {\n",
       "        vertical-align: middle;\n",
       "    }\n",
       "\n",
       "    .dataframe tbody tr th {\n",
       "        vertical-align: top;\n",
       "    }\n",
       "\n",
       "    .dataframe thead th {\n",
       "        text-align: right;\n",
       "    }\n",
       "</style>\n",
       "<table border=\"1\" class=\"dataframe\">\n",
       "  <thead>\n",
       "    <tr style=\"text-align: right;\">\n",
       "      <th></th>\n",
       "      <th>RATING</th>\n",
       "      <th>CATEGORY</th>\n",
       "      <th>PRODUCT</th>\n",
       "      <th>BRAND</th>\n",
       "      <th>DESC</th>\n",
       "      <th>PRICE</th>\n",
       "      <th>skin_type</th>\n",
       "    </tr>\n",
       "  </thead>\n",
       "  <tbody>\n",
       "    <tr>\n",
       "      <th>0</th>\n",
       "      <td>4.0</td>\n",
       "      <td>serum</td>\n",
       "      <td>Niacinamide 10% + Zinc 1%</td>\n",
       "      <td>The Ordinary</td>\n",
       "      <td>The Ordinary Niacinamide 10% + Zinc 1% menyama...</td>\n",
       "      <td>157000</td>\n",
       "      <td>normal</td>\n",
       "    </tr>\n",
       "    <tr>\n",
       "      <th>1</th>\n",
       "      <td>4.3</td>\n",
       "      <td>serum</td>\n",
       "      <td>Niacinamide + Moisture Beet Serum</td>\n",
       "      <td>Somethinc</td>\n",
       "      <td>Somethinc Niacinamide + Moisture Beet Serum me...</td>\n",
       "      <td>115000</td>\n",
       "      <td>Semua</td>\n",
       "    </tr>\n",
       "    <tr>\n",
       "      <th>2</th>\n",
       "      <td>4.7</td>\n",
       "      <td>serum</td>\n",
       "      <td>N10-Dose+ Brightening Serum</td>\n",
       "      <td>Whitelab</td>\n",
       "      <td>Whitelab N10-Dose+ Brightening Serum merupakan...</td>\n",
       "      <td>75000</td>\n",
       "      <td>Semua</td>\n",
       "    </tr>\n",
       "    <tr>\n",
       "      <th>3</th>\n",
       "      <td>4.8</td>\n",
       "      <td>serum</td>\n",
       "      <td>C White Lightening Serum</td>\n",
       "      <td>Azarine Cosmetics</td>\n",
       "      <td>Azarine Cosmetics C White Lightening Serum ada...</td>\n",
       "      <td>220000</td>\n",
       "      <td>Semua</td>\n",
       "    </tr>\n",
       "    <tr>\n",
       "      <th>4</th>\n",
       "      <td>4.3</td>\n",
       "      <td>serum</td>\n",
       "      <td>Advanced Snail 96 Mucin Power Essence</td>\n",
       "      <td>Cosrx</td>\n",
       "      <td>Cosrx Advanced Snail 96 Mucin Power Essence di...</td>\n",
       "      <td>47500</td>\n",
       "      <td>Semua</td>\n",
       "    </tr>\n",
       "    <tr>\n",
       "      <th>...</th>\n",
       "      <td>...</td>\n",
       "      <td>...</td>\n",
       "      <td>...</td>\n",
       "      <td>...</td>\n",
       "      <td>...</td>\n",
       "      <td>...</td>\n",
       "      <td>...</td>\n",
       "    </tr>\n",
       "    <tr>\n",
       "      <th>204</th>\n",
       "      <td>4.4</td>\n",
       "      <td>scrub</td>\n",
       "      <td>White Expert Deep Exfoliator</td>\n",
       "      <td>Safi</td>\n",
       "      <td>SAFI White Expert Deep Exfoliator adalah pembe...</td>\n",
       "      <td>46800</td>\n",
       "      <td>semua, Semua</td>\n",
       "    </tr>\n",
       "    <tr>\n",
       "      <th>205</th>\n",
       "      <td>4.5</td>\n",
       "      <td>scrub</td>\n",
       "      <td>Wine Lift PHA Gauze Peeling</td>\n",
       "      <td>Neogen</td>\n",
       "      <td>Neogen Bio-Peel Gauze Peeling Wine dikemas dal...</td>\n",
       "      <td>400000</td>\n",
       "      <td>Semua</td>\n",
       "    </tr>\n",
       "    <tr>\n",
       "      <th>206</th>\n",
       "      <td>4.4</td>\n",
       "      <td>scrub</td>\n",
       "      <td>Skin Perfecting 2% BHA Liquid Exfoliant</td>\n",
       "      <td>Paula's Choice</td>\n",
       "      <td>Paula's Choice Skin Perfecting 2% BHA Liquid E...</td>\n",
       "      <td>390000</td>\n",
       "      <td>berminyak</td>\n",
       "    </tr>\n",
       "    <tr>\n",
       "      <th>207</th>\n",
       "      <td>3.7</td>\n",
       "      <td>scrub</td>\n",
       "      <td>White Secret Exfoliating Lotion</td>\n",
       "      <td>Wardah</td>\n",
       "      <td>Wardah Exfoliating Lotion merupakan lotion yan...</td>\n",
       "      <td>70000</td>\n",
       "      <td>Semua</td>\n",
       "    </tr>\n",
       "    <tr>\n",
       "      <th>208</th>\n",
       "      <td>4.3</td>\n",
       "      <td>scrub</td>\n",
       "      <td>Energizing Coconut &amp; Coffee Scrub</td>\n",
       "      <td>St. Ives</td>\n",
       "      <td>St. Ives Energizing Coconut &amp; Coffee Scrub ada...</td>\n",
       "      <td>69000</td>\n",
       "      <td>berminyak</td>\n",
       "    </tr>\n",
       "  </tbody>\n",
       "</table>\n",
       "<p>209 rows × 7 columns</p>\n",
       "</div>"
      ],
      "text/plain": [
       "     RATING CATEGORY                                  PRODUCT  \\\n",
       "0       4.0    serum                Niacinamide 10% + Zinc 1%   \n",
       "1       4.3    serum        Niacinamide + Moisture Beet Serum   \n",
       "2       4.7    serum              N10-Dose+ Brightening Serum   \n",
       "3       4.8    serum                 C White Lightening Serum   \n",
       "4       4.3    serum    Advanced Snail 96 Mucin Power Essence   \n",
       "..      ...      ...                                      ...   \n",
       "204     4.4    scrub             White Expert Deep Exfoliator   \n",
       "205     4.5    scrub              Wine Lift PHA Gauze Peeling   \n",
       "206     4.4    scrub  Skin Perfecting 2% BHA Liquid Exfoliant   \n",
       "207     3.7    scrub          White Secret Exfoliating Lotion   \n",
       "208     4.3    scrub        Energizing Coconut & Coffee Scrub   \n",
       "\n",
       "                 BRAND                                               DESC  \\\n",
       "0         The Ordinary  The Ordinary Niacinamide 10% + Zinc 1% menyama...   \n",
       "1            Somethinc  Somethinc Niacinamide + Moisture Beet Serum me...   \n",
       "2             Whitelab  Whitelab N10-Dose+ Brightening Serum merupakan...   \n",
       "3    Azarine Cosmetics  Azarine Cosmetics C White Lightening Serum ada...   \n",
       "4                Cosrx  Cosrx Advanced Snail 96 Mucin Power Essence di...   \n",
       "..                 ...                                                ...   \n",
       "204               Safi  SAFI White Expert Deep Exfoliator adalah pembe...   \n",
       "205             Neogen  Neogen Bio-Peel Gauze Peeling Wine dikemas dal...   \n",
       "206     Paula's Choice  Paula's Choice Skin Perfecting 2% BHA Liquid E...   \n",
       "207             Wardah  Wardah Exfoliating Lotion merupakan lotion yan...   \n",
       "208           St. Ives  St. Ives Energizing Coconut & Coffee Scrub ada...   \n",
       "\n",
       "      PRICE     skin_type  \n",
       "0    157000        normal  \n",
       "1    115000         Semua  \n",
       "2     75000         Semua  \n",
       "3    220000         Semua  \n",
       "4     47500         Semua  \n",
       "..      ...           ...  \n",
       "204   46800  semua, Semua  \n",
       "205  400000         Semua  \n",
       "206  390000     berminyak  \n",
       "207   70000         Semua  \n",
       "208   69000     berminyak  \n",
       "\n",
       "[209 rows x 7 columns]"
      ]
     },
     "execution_count": 265,
     "metadata": {},
     "output_type": "execute_result"
    }
   ],
   "source": [
    "st['skin_type'] = st['skin_type'].replace({r\"[].'.[]\":\"\"}, regex=True)\n",
    "st"
   ]
  },
  {
   "cell_type": "markdown",
   "id": "OZ4p6FPz0ZSa",
   "metadata": {
    "id": "OZ4p6FPz0ZSa"
   },
   "source": [
    "### 3.1.2 Remove duplicates in row"
   ]
  },
  {
   "cell_type": "code",
   "execution_count": 266,
   "id": "AMoVA4lszZ8q",
   "metadata": {
    "colab": {
     "base_uri": "https://localhost:8080/",
     "height": 423
    },
    "id": "AMoVA4lszZ8q",
    "outputId": "4ddfb01c-f29a-4e97-8797-6e54a6072bd9"
   },
   "outputs": [
    {
     "data": {
      "text/html": [
       "<div>\n",
       "<style scoped>\n",
       "    .dataframe tbody tr th:only-of-type {\n",
       "        vertical-align: middle;\n",
       "    }\n",
       "\n",
       "    .dataframe tbody tr th {\n",
       "        vertical-align: top;\n",
       "    }\n",
       "\n",
       "    .dataframe thead th {\n",
       "        text-align: right;\n",
       "    }\n",
       "</style>\n",
       "<table border=\"1\" class=\"dataframe\">\n",
       "  <thead>\n",
       "    <tr style=\"text-align: right;\">\n",
       "      <th></th>\n",
       "      <th>RATING</th>\n",
       "      <th>CATEGORY</th>\n",
       "      <th>PRODUCT</th>\n",
       "      <th>BRAND</th>\n",
       "      <th>DESC</th>\n",
       "      <th>PRICE</th>\n",
       "      <th>skin_type</th>\n",
       "    </tr>\n",
       "  </thead>\n",
       "  <tbody>\n",
       "    <tr>\n",
       "      <th>0</th>\n",
       "      <td>4.0</td>\n",
       "      <td>serum</td>\n",
       "      <td>Niacinamide 10% + Zinc 1%</td>\n",
       "      <td>The Ordinary</td>\n",
       "      <td>The Ordinary Niacinamide 10% + Zinc 1% menyama...</td>\n",
       "      <td>157000</td>\n",
       "      <td>normal</td>\n",
       "    </tr>\n",
       "    <tr>\n",
       "      <th>1</th>\n",
       "      <td>4.3</td>\n",
       "      <td>serum</td>\n",
       "      <td>Niacinamide + Moisture Beet Serum</td>\n",
       "      <td>Somethinc</td>\n",
       "      <td>Somethinc Niacinamide + Moisture Beet Serum me...</td>\n",
       "      <td>115000</td>\n",
       "      <td>semua</td>\n",
       "    </tr>\n",
       "    <tr>\n",
       "      <th>2</th>\n",
       "      <td>4.7</td>\n",
       "      <td>serum</td>\n",
       "      <td>N10-Dose+ Brightening Serum</td>\n",
       "      <td>Whitelab</td>\n",
       "      <td>Whitelab N10-Dose+ Brightening Serum merupakan...</td>\n",
       "      <td>75000</td>\n",
       "      <td>semua</td>\n",
       "    </tr>\n",
       "    <tr>\n",
       "      <th>3</th>\n",
       "      <td>4.8</td>\n",
       "      <td>serum</td>\n",
       "      <td>C White Lightening Serum</td>\n",
       "      <td>Azarine Cosmetics</td>\n",
       "      <td>Azarine Cosmetics C White Lightening Serum ada...</td>\n",
       "      <td>220000</td>\n",
       "      <td>semua</td>\n",
       "    </tr>\n",
       "    <tr>\n",
       "      <th>4</th>\n",
       "      <td>4.3</td>\n",
       "      <td>serum</td>\n",
       "      <td>Advanced Snail 96 Mucin Power Essence</td>\n",
       "      <td>Cosrx</td>\n",
       "      <td>Cosrx Advanced Snail 96 Mucin Power Essence di...</td>\n",
       "      <td>47500</td>\n",
       "      <td>semua</td>\n",
       "    </tr>\n",
       "    <tr>\n",
       "      <th>...</th>\n",
       "      <td>...</td>\n",
       "      <td>...</td>\n",
       "      <td>...</td>\n",
       "      <td>...</td>\n",
       "      <td>...</td>\n",
       "      <td>...</td>\n",
       "      <td>...</td>\n",
       "    </tr>\n",
       "    <tr>\n",
       "      <th>204</th>\n",
       "      <td>4.4</td>\n",
       "      <td>scrub</td>\n",
       "      <td>White Expert Deep Exfoliator</td>\n",
       "      <td>Safi</td>\n",
       "      <td>SAFI White Expert Deep Exfoliator adalah pembe...</td>\n",
       "      <td>46800</td>\n",
       "      <td>semua</td>\n",
       "    </tr>\n",
       "    <tr>\n",
       "      <th>205</th>\n",
       "      <td>4.5</td>\n",
       "      <td>scrub</td>\n",
       "      <td>Wine Lift PHA Gauze Peeling</td>\n",
       "      <td>Neogen</td>\n",
       "      <td>Neogen Bio-Peel Gauze Peeling Wine dikemas dal...</td>\n",
       "      <td>400000</td>\n",
       "      <td>semua</td>\n",
       "    </tr>\n",
       "    <tr>\n",
       "      <th>206</th>\n",
       "      <td>4.4</td>\n",
       "      <td>scrub</td>\n",
       "      <td>Skin Perfecting 2% BHA Liquid Exfoliant</td>\n",
       "      <td>Paula's Choice</td>\n",
       "      <td>Paula's Choice Skin Perfecting 2% BHA Liquid E...</td>\n",
       "      <td>390000</td>\n",
       "      <td>berminyak</td>\n",
       "    </tr>\n",
       "    <tr>\n",
       "      <th>207</th>\n",
       "      <td>3.7</td>\n",
       "      <td>scrub</td>\n",
       "      <td>White Secret Exfoliating Lotion</td>\n",
       "      <td>Wardah</td>\n",
       "      <td>Wardah Exfoliating Lotion merupakan lotion yan...</td>\n",
       "      <td>70000</td>\n",
       "      <td>semua</td>\n",
       "    </tr>\n",
       "    <tr>\n",
       "      <th>208</th>\n",
       "      <td>4.3</td>\n",
       "      <td>scrub</td>\n",
       "      <td>Energizing Coconut &amp; Coffee Scrub</td>\n",
       "      <td>St. Ives</td>\n",
       "      <td>St. Ives Energizing Coconut &amp; Coffee Scrub ada...</td>\n",
       "      <td>69000</td>\n",
       "      <td>berminyak</td>\n",
       "    </tr>\n",
       "  </tbody>\n",
       "</table>\n",
       "<p>209 rows × 7 columns</p>\n",
       "</div>"
      ],
      "text/plain": [
       "     RATING CATEGORY                                  PRODUCT  \\\n",
       "0       4.0    serum                Niacinamide 10% + Zinc 1%   \n",
       "1       4.3    serum        Niacinamide + Moisture Beet Serum   \n",
       "2       4.7    serum              N10-Dose+ Brightening Serum   \n",
       "3       4.8    serum                 C White Lightening Serum   \n",
       "4       4.3    serum    Advanced Snail 96 Mucin Power Essence   \n",
       "..      ...      ...                                      ...   \n",
       "204     4.4    scrub             White Expert Deep Exfoliator   \n",
       "205     4.5    scrub              Wine Lift PHA Gauze Peeling   \n",
       "206     4.4    scrub  Skin Perfecting 2% BHA Liquid Exfoliant   \n",
       "207     3.7    scrub          White Secret Exfoliating Lotion   \n",
       "208     4.3    scrub        Energizing Coconut & Coffee Scrub   \n",
       "\n",
       "                 BRAND                                               DESC  \\\n",
       "0         The Ordinary  The Ordinary Niacinamide 10% + Zinc 1% menyama...   \n",
       "1            Somethinc  Somethinc Niacinamide + Moisture Beet Serum me...   \n",
       "2             Whitelab  Whitelab N10-Dose+ Brightening Serum merupakan...   \n",
       "3    Azarine Cosmetics  Azarine Cosmetics C White Lightening Serum ada...   \n",
       "4                Cosrx  Cosrx Advanced Snail 96 Mucin Power Essence di...   \n",
       "..                 ...                                                ...   \n",
       "204               Safi  SAFI White Expert Deep Exfoliator adalah pembe...   \n",
       "205             Neogen  Neogen Bio-Peel Gauze Peeling Wine dikemas dal...   \n",
       "206     Paula's Choice  Paula's Choice Skin Perfecting 2% BHA Liquid E...   \n",
       "207             Wardah  Wardah Exfoliating Lotion merupakan lotion yan...   \n",
       "208           St. Ives  St. Ives Energizing Coconut & Coffee Scrub ada...   \n",
       "\n",
       "      PRICE  skin_type  \n",
       "0    157000     normal  \n",
       "1    115000      semua  \n",
       "2     75000      semua  \n",
       "3    220000      semua  \n",
       "4     47500      semua  \n",
       "..      ...        ...  \n",
       "204   46800      semua  \n",
       "205  400000      semua  \n",
       "206  390000  berminyak  \n",
       "207   70000      semua  \n",
       "208   69000  berminyak  \n",
       "\n",
       "[209 rows x 7 columns]"
      ]
     },
     "execution_count": 266,
     "metadata": {},
     "output_type": "execute_result"
    }
   ],
   "source": [
    "st['skin_type'] = st['skin_type'].str.lower().str.split(',\\s*').apply(set).str.join(', ')\n",
    "st"
   ]
  },
  {
   "cell_type": "code",
   "execution_count": 267,
   "id": "uShCn6ae12CQ",
   "metadata": {
    "colab": {
     "base_uri": "https://localhost:8080/"
    },
    "id": "uShCn6ae12CQ",
    "outputId": "1299a587-41fc-43f2-d7e7-5291e1e9f058"
   },
   "outputs": [
    {
     "data": {
      "text/plain": [
       "semua                       94\n",
       "kering                      32\n",
       "berminyak                   23\n",
       "normal                      17\n",
       "sensitif                    13\n",
       "semua, sensitif              7\n",
       "semua, berminyak             4\n",
       "kombinasi                    3\n",
       "kering, berminyak            3\n",
       "semua, kering                2\n",
       "normal, kering               2\n",
       "kombinasi, semua             2\n",
       "kering, sensitif             1\n",
       "kombinasi, berminyak         1\n",
       "normal, semua                1\n",
       "normal, berminyak            1\n",
       "normal, semua, sensitif      1\n",
       "kombinasi, normal            1\n",
       "normal, semua, berminyak     1\n",
       "Name: skin_type, dtype: int64"
      ]
     },
     "execution_count": 267,
     "metadata": {},
     "output_type": "execute_result"
    }
   ],
   "source": [
    "st['skin_type'].value_counts()"
   ]
  },
  {
   "cell_type": "markdown",
   "id": "uPKPZXz80lHZ",
   "metadata": {
    "id": "uPKPZXz80lHZ"
   },
   "source": [
    "## 3.2 Keywords dataframe"
   ]
  },
  {
   "cell_type": "code",
   "execution_count": 268,
   "id": "JROLHDfOkv6O",
   "metadata": {
    "colab": {
     "base_uri": "https://localhost:8080/",
     "height": 206
    },
    "id": "JROLHDfOkv6O",
    "outputId": "1e322e6a-6f25-485f-d02c-c913d19cc76c"
   },
   "outputs": [
    {
     "data": {
      "text/html": [
       "<div>\n",
       "<style scoped>\n",
       "    .dataframe tbody tr th:only-of-type {\n",
       "        vertical-align: middle;\n",
       "    }\n",
       "\n",
       "    .dataframe tbody tr th {\n",
       "        vertical-align: top;\n",
       "    }\n",
       "\n",
       "    .dataframe thead th {\n",
       "        text-align: right;\n",
       "    }\n",
       "</style>\n",
       "<table border=\"1\" class=\"dataframe\">\n",
       "  <thead>\n",
       "    <tr style=\"text-align: right;\">\n",
       "      <th></th>\n",
       "      <th>keywords</th>\n",
       "    </tr>\n",
       "  </thead>\n",
       "  <tbody>\n",
       "    <tr>\n",
       "      <th>0</th>\n",
       "      <td>{'wajah': 0.385, 'bekas jerawat': 0.356, 'meny...</td>\n",
       "    </tr>\n",
       "    <tr>\n",
       "      <th>1</th>\n",
       "      <td>{'mengatasi': 0.433, 'kulit': 0.388, 'menyamar...</td>\n",
       "    </tr>\n",
       "    <tr>\n",
       "      <th>2</th>\n",
       "      <td>{'kulit': 0.37, 'menyamarkan': 0.344, 'mencera...</td>\n",
       "    </tr>\n",
       "    <tr>\n",
       "      <th>3</th>\n",
       "      <td>{'kulit': 0.591, 'mencerahkan kulit': 0.279, '...</td>\n",
       "    </tr>\n",
       "    <tr>\n",
       "      <th>4</th>\n",
       "      <td>{'tekstur': 0.482, 'kulit': 0.335, 'sehat': 0....</td>\n",
       "    </tr>\n",
       "  </tbody>\n",
       "</table>\n",
       "</div>"
      ],
      "text/plain": [
       "                                            keywords\n",
       "0  {'wajah': 0.385, 'bekas jerawat': 0.356, 'meny...\n",
       "1  {'mengatasi': 0.433, 'kulit': 0.388, 'menyamar...\n",
       "2  {'kulit': 0.37, 'menyamarkan': 0.344, 'mencera...\n",
       "3  {'kulit': 0.591, 'mencerahkan kulit': 0.279, '...\n",
       "4  {'tekstur': 0.482, 'kulit': 0.335, 'sehat': 0...."
      ]
     },
     "execution_count": 268,
     "metadata": {},
     "output_type": "execute_result"
    }
   ],
   "source": [
    "scc = df[['keywords']]\n",
    "scc.head()"
   ]
  },
  {
   "cell_type": "markdown",
   "id": "gJPVcwliujwN",
   "metadata": {
    "id": "gJPVcwliujwN"
   },
   "source": [
    "### 3.2.1 Clean unnecessary characters"
   ]
  },
  {
   "cell_type": "code",
   "execution_count": 269,
   "id": "hqk4Mou5dsga",
   "metadata": {
    "colab": {
     "base_uri": "https://localhost:8080/",
     "height": 206
    },
    "id": "hqk4Mou5dsga",
    "outputId": "661e9b3c-2c0d-4a67-c306-83ad1bb59697"
   },
   "outputs": [
    {
     "data": {
      "text/html": [
       "<div>\n",
       "<style scoped>\n",
       "    .dataframe tbody tr th:only-of-type {\n",
       "        vertical-align: middle;\n",
       "    }\n",
       "\n",
       "    .dataframe tbody tr th {\n",
       "        vertical-align: top;\n",
       "    }\n",
       "\n",
       "    .dataframe thead th {\n",
       "        text-align: right;\n",
       "    }\n",
       "</style>\n",
       "<table border=\"1\" class=\"dataframe\">\n",
       "  <thead>\n",
       "    <tr style=\"text-align: right;\">\n",
       "      <th></th>\n",
       "      <th>keywords</th>\n",
       "    </tr>\n",
       "  </thead>\n",
       "  <tbody>\n",
       "    <tr>\n",
       "      <th>0</th>\n",
       "      <td>wajah 0385, bekas jerawat 0356, menyamarkan no...</td>\n",
       "    </tr>\n",
       "    <tr>\n",
       "      <th>1</th>\n",
       "      <td>mengatasi 0433, kulit 0388, menyamarkan noda 0...</td>\n",
       "    </tr>\n",
       "    <tr>\n",
       "      <th>2</th>\n",
       "      <td>kulit 037, menyamarkan 0344, mencerahkan 0286,...</td>\n",
       "    </tr>\n",
       "    <tr>\n",
       "      <th>3</th>\n",
       "      <td>kulit 0591, mencerahkan kulit 0279, mengurangi...</td>\n",
       "    </tr>\n",
       "    <tr>\n",
       "      <th>4</th>\n",
       "      <td>tekstur 0482, kulit 0335, sehat 0294, menyerap...</td>\n",
       "    </tr>\n",
       "  </tbody>\n",
       "</table>\n",
       "</div>"
      ],
      "text/plain": [
       "                                            keywords\n",
       "0  wajah 0385, bekas jerawat 0356, menyamarkan no...\n",
       "1  mengatasi 0433, kulit 0388, menyamarkan noda 0...\n",
       "2  kulit 037, menyamarkan 0344, mencerahkan 0286,...\n",
       "3  kulit 0591, mencerahkan kulit 0279, mengurangi...\n",
       "4  tekstur 0482, kulit 0335, sehat 0294, menyerap..."
      ]
     },
     "execution_count": 269,
     "metadata": {},
     "output_type": "execute_result"
    }
   ],
   "source": [
    "scc.keywords = scc.keywords.replace({r\"[:.{}']\":\"\"}, regex=True)\n",
    "scc.head()"
   ]
  },
  {
   "cell_type": "code",
   "execution_count": 270,
   "id": "W_7i11NAlJYd",
   "metadata": {
    "colab": {
     "base_uri": "https://localhost:8080/",
     "height": 206
    },
    "id": "W_7i11NAlJYd",
    "outputId": "3f1b8c38-9993-40ce-883a-525672c04294"
   },
   "outputs": [
    {
     "data": {
      "text/html": [
       "<div>\n",
       "<style scoped>\n",
       "    .dataframe tbody tr th:only-of-type {\n",
       "        vertical-align: middle;\n",
       "    }\n",
       "\n",
       "    .dataframe tbody tr th {\n",
       "        vertical-align: top;\n",
       "    }\n",
       "\n",
       "    .dataframe thead th {\n",
       "        text-align: right;\n",
       "    }\n",
       "</style>\n",
       "<table border=\"1\" class=\"dataframe\">\n",
       "  <thead>\n",
       "    <tr style=\"text-align: right;\">\n",
       "      <th></th>\n",
       "      <th>keywords</th>\n",
       "    </tr>\n",
       "  </thead>\n",
       "  <tbody>\n",
       "    <tr>\n",
       "      <th>0</th>\n",
       "      <td>wajah , bekas jerawat , menyamarkan noda , bek...</td>\n",
       "    </tr>\n",
       "    <tr>\n",
       "      <th>1</th>\n",
       "      <td>mengatasi , kulit , menyamarkan noda , kulit k...</td>\n",
       "    </tr>\n",
       "    <tr>\n",
       "      <th>2</th>\n",
       "      <td>kulit , menyamarkan , mencerahkan , wajah , be...</td>\n",
       "    </tr>\n",
       "    <tr>\n",
       "      <th>3</th>\n",
       "      <td>kulit , mencerahkan kulit , mengurangi , diper...</td>\n",
       "    </tr>\n",
       "    <tr>\n",
       "      <th>4</th>\n",
       "      <td>tekstur , kulit , sehat , menyerap , kelembapa...</td>\n",
       "    </tr>\n",
       "  </tbody>\n",
       "</table>\n",
       "</div>"
      ],
      "text/plain": [
       "                                            keywords\n",
       "0  wajah , bekas jerawat , menyamarkan noda , bek...\n",
       "1  mengatasi , kulit , menyamarkan noda , kulit k...\n",
       "2  kulit , menyamarkan , mencerahkan , wajah , be...\n",
       "3  kulit , mencerahkan kulit , mengurangi , diper...\n",
       "4  tekstur , kulit , sehat , menyerap , kelembapa..."
      ]
     },
     "execution_count": 270,
     "metadata": {},
     "output_type": "execute_result"
    }
   ],
   "source": [
    "scc['keywords'] = scc['keywords'].str.replace('\\d', '', regex=True)\n",
    "scc.head()"
   ]
  },
  {
   "cell_type": "markdown",
   "id": "wyYvRd0mu3HR",
   "metadata": {
    "id": "wyYvRd0mu3HR"
   },
   "source": [
    "## 3.3 Merging skin type with the keywords"
   ]
  },
  {
   "cell_type": "code",
   "execution_count": 271,
   "id": "sACd57lklf3r",
   "metadata": {
    "colab": {
     "base_uri": "https://localhost:8080/",
     "height": 337
    },
    "id": "sACd57lklf3r",
    "outputId": "68867d75-3f0a-4eed-cdd4-ddb6bab75853"
   },
   "outputs": [
    {
     "data": {
      "text/html": [
       "<div>\n",
       "<style scoped>\n",
       "    .dataframe tbody tr th:only-of-type {\n",
       "        vertical-align: middle;\n",
       "    }\n",
       "\n",
       "    .dataframe tbody tr th {\n",
       "        vertical-align: top;\n",
       "    }\n",
       "\n",
       "    .dataframe thead th {\n",
       "        text-align: right;\n",
       "    }\n",
       "</style>\n",
       "<table border=\"1\" class=\"dataframe\">\n",
       "  <thead>\n",
       "    <tr style=\"text-align: right;\">\n",
       "      <th></th>\n",
       "      <th>RATING</th>\n",
       "      <th>CATEGORY</th>\n",
       "      <th>PRODUCT</th>\n",
       "      <th>BRAND</th>\n",
       "      <th>DESC</th>\n",
       "      <th>PRICE</th>\n",
       "      <th>skin_type</th>\n",
       "      <th>keywords</th>\n",
       "    </tr>\n",
       "  </thead>\n",
       "  <tbody>\n",
       "    <tr>\n",
       "      <th>0</th>\n",
       "      <td>4.0</td>\n",
       "      <td>serum</td>\n",
       "      <td>Niacinamide 10% + Zinc 1%</td>\n",
       "      <td>The Ordinary</td>\n",
       "      <td>The Ordinary Niacinamide 10% + Zinc 1% menyama...</td>\n",
       "      <td>157000</td>\n",
       "      <td>normal</td>\n",
       "      <td>wajah , bekas jerawat , menyamarkan noda , bek...</td>\n",
       "    </tr>\n",
       "    <tr>\n",
       "      <th>1</th>\n",
       "      <td>4.3</td>\n",
       "      <td>serum</td>\n",
       "      <td>Niacinamide + Moisture Beet Serum</td>\n",
       "      <td>Somethinc</td>\n",
       "      <td>Somethinc Niacinamide + Moisture Beet Serum me...</td>\n",
       "      <td>115000</td>\n",
       "      <td>semua</td>\n",
       "      <td>mengatasi , kulit , menyamarkan noda , kulit k...</td>\n",
       "    </tr>\n",
       "    <tr>\n",
       "      <th>2</th>\n",
       "      <td>4.7</td>\n",
       "      <td>serum</td>\n",
       "      <td>N10-Dose+ Brightening Serum</td>\n",
       "      <td>Whitelab</td>\n",
       "      <td>Whitelab N10-Dose+ Brightening Serum merupakan...</td>\n",
       "      <td>75000</td>\n",
       "      <td>semua</td>\n",
       "      <td>kulit , menyamarkan , mencerahkan , wajah , be...</td>\n",
       "    </tr>\n",
       "    <tr>\n",
       "      <th>3</th>\n",
       "      <td>4.8</td>\n",
       "      <td>serum</td>\n",
       "      <td>C White Lightening Serum</td>\n",
       "      <td>Azarine Cosmetics</td>\n",
       "      <td>Azarine Cosmetics C White Lightening Serum ada...</td>\n",
       "      <td>220000</td>\n",
       "      <td>semua</td>\n",
       "      <td>kulit , mencerahkan kulit , mengurangi , diper...</td>\n",
       "    </tr>\n",
       "    <tr>\n",
       "      <th>4</th>\n",
       "      <td>4.3</td>\n",
       "      <td>serum</td>\n",
       "      <td>Advanced Snail 96 Mucin Power Essence</td>\n",
       "      <td>Cosrx</td>\n",
       "      <td>Cosrx Advanced Snail 96 Mucin Power Essence di...</td>\n",
       "      <td>47500</td>\n",
       "      <td>semua</td>\n",
       "      <td>tekstur , kulit , sehat , menyerap , kelembapa...</td>\n",
       "    </tr>\n",
       "  </tbody>\n",
       "</table>\n",
       "</div>"
      ],
      "text/plain": [
       "   RATING CATEGORY                                PRODUCT              BRAND  \\\n",
       "0     4.0    serum              Niacinamide 10% + Zinc 1%       The Ordinary   \n",
       "1     4.3    serum      Niacinamide + Moisture Beet Serum          Somethinc   \n",
       "2     4.7    serum            N10-Dose+ Brightening Serum           Whitelab   \n",
       "3     4.8    serum               C White Lightening Serum  Azarine Cosmetics   \n",
       "4     4.3    serum  Advanced Snail 96 Mucin Power Essence              Cosrx   \n",
       "\n",
       "                                                DESC   PRICE skin_type  \\\n",
       "0  The Ordinary Niacinamide 10% + Zinc 1% menyama...  157000    normal   \n",
       "1  Somethinc Niacinamide + Moisture Beet Serum me...  115000     semua   \n",
       "2  Whitelab N10-Dose+ Brightening Serum merupakan...   75000     semua   \n",
       "3  Azarine Cosmetics C White Lightening Serum ada...  220000     semua   \n",
       "4  Cosrx Advanced Snail 96 Mucin Power Essence di...   47500     semua   \n",
       "\n",
       "                                            keywords  \n",
       "0  wajah , bekas jerawat , menyamarkan noda , bek...  \n",
       "1  mengatasi , kulit , menyamarkan noda , kulit k...  \n",
       "2  kulit , menyamarkan , mencerahkan , wajah , be...  \n",
       "3  kulit , mencerahkan kulit , mengurangi , diper...  \n",
       "4  tekstur , kulit , sehat , menyerap , kelembapa...  "
      ]
     },
     "execution_count": 271,
     "metadata": {},
     "output_type": "execute_result"
    }
   ],
   "source": [
    "df = pd.merge(st, scc, left_index=True, right_index=True, how='inner')\n",
    "df.head()"
   ]
  },
  {
   "cell_type": "markdown",
   "id": "9dbd0560",
   "metadata": {
    "id": "9dbd0560"
   },
   "source": [
    "## 3.4 Merging dataframe with allergen extraction"
   ]
  },
  {
   "cell_type": "code",
   "execution_count": 272,
   "id": "tFMBOSz30P1m",
   "metadata": {
    "colab": {
     "base_uri": "https://localhost:8080/",
     "height": 423
    },
    "id": "tFMBOSz30P1m",
    "outputId": "09c91242-f4b4-49c4-a22e-325bf560b3c8"
   },
   "outputs": [
    {
     "data": {
      "text/html": [
       "<div>\n",
       "<style scoped>\n",
       "    .dataframe tbody tr th:only-of-type {\n",
       "        vertical-align: middle;\n",
       "    }\n",
       "\n",
       "    .dataframe tbody tr th {\n",
       "        vertical-align: top;\n",
       "    }\n",
       "\n",
       "    .dataframe thead th {\n",
       "        text-align: right;\n",
       "    }\n",
       "</style>\n",
       "<table border=\"1\" class=\"dataframe\">\n",
       "  <thead>\n",
       "    <tr style=\"text-align: right;\">\n",
       "      <th></th>\n",
       "      <th>ingredients</th>\n",
       "    </tr>\n",
       "  </thead>\n",
       "  <tbody>\n",
       "    <tr>\n",
       "      <th>0</th>\n",
       "      <td>aqua water niacinamide zinc pca tamarindus in...</td>\n",
       "    </tr>\n",
       "    <tr>\n",
       "      <th>1</th>\n",
       "      <td>aqua allantoin edta niacinamide hydroxyethylc...</td>\n",
       "    </tr>\n",
       "    <tr>\n",
       "      <th>2</th>\n",
       "      <td>aqua propylene glycol niacinamide ethyl alcoho...</td>\n",
       "    </tr>\n",
       "    <tr>\n",
       "      <th>3</th>\n",
       "      <td>kakadu plum lemon niacinamide papaya aloe vera</td>\n",
       "    </tr>\n",
       "    <tr>\n",
       "      <th>4</th>\n",
       "      <td>snail secretion filtrate betaine butylene gly...</td>\n",
       "    </tr>\n",
       "    <tr>\n",
       "      <th>...</th>\n",
       "      <td>...</td>\n",
       "    </tr>\n",
       "    <tr>\n",
       "      <th>204</th>\n",
       "      <td>aqua glyceryl stearate glycerin caprylic capri...</td>\n",
       "    </tr>\n",
       "    <tr>\n",
       "      <th>205</th>\n",
       "      <td>water disodium edta glycerin butylene glycol ...</td>\n",
       "    </tr>\n",
       "    <tr>\n",
       "      <th>206</th>\n",
       "      <td>water methylpropanediol butylene glycol slip ...</td>\n",
       "    </tr>\n",
       "    <tr>\n",
       "      <th>207</th>\n",
       "      <td>aqua glyceryl stearate cetyl alcohol stearyl a...</td>\n",
       "    </tr>\n",
       "    <tr>\n",
       "      <th>208</th>\n",
       "      <td>water aqua juglans regia walnut shell powder ...</td>\n",
       "    </tr>\n",
       "  </tbody>\n",
       "</table>\n",
       "<p>209 rows × 1 columns</p>\n",
       "</div>"
      ],
      "text/plain": [
       "                                           ingredients\n",
       "0     aqua water niacinamide zinc pca tamarindus in...\n",
       "1     aqua allantoin edta niacinamide hydroxyethylc...\n",
       "2    aqua propylene glycol niacinamide ethyl alcoho...\n",
       "3      kakadu plum lemon niacinamide papaya aloe vera \n",
       "4     snail secretion filtrate betaine butylene gly...\n",
       "..                                                 ...\n",
       "204  aqua glyceryl stearate glycerin caprylic capri...\n",
       "205   water disodium edta glycerin butylene glycol ...\n",
       "206   water methylpropanediol butylene glycol slip ...\n",
       "207  aqua glyceryl stearate cetyl alcohol stearyl a...\n",
       "208   water aqua juglans regia walnut shell powder ...\n",
       "\n",
       "[209 rows x 1 columns]"
      ]
     },
     "execution_count": 272,
     "metadata": {},
     "output_type": "execute_result"
    }
   ],
   "source": [
    "key = pd.DataFrame(df_idf['ingredients'].apply(lambda x:pre_process(x)))\n",
    "key"
   ]
  },
  {
   "cell_type": "code",
   "execution_count": 273,
   "id": "j46XOdNNHI07",
   "metadata": {
    "colab": {
     "base_uri": "https://localhost:8080/",
     "height": 423
    },
    "id": "j46XOdNNHI07",
    "outputId": "a4a85057-f177-41c9-d35a-31ec44262c1c"
   },
   "outputs": [
    {
     "data": {
      "text/html": [
       "<div>\n",
       "<style scoped>\n",
       "    .dataframe tbody tr th:only-of-type {\n",
       "        vertical-align: middle;\n",
       "    }\n",
       "\n",
       "    .dataframe tbody tr th {\n",
       "        vertical-align: top;\n",
       "    }\n",
       "\n",
       "    .dataframe thead th {\n",
       "        text-align: right;\n",
       "    }\n",
       "</style>\n",
       "<table border=\"1\" class=\"dataframe\">\n",
       "  <thead>\n",
       "    <tr style=\"text-align: right;\">\n",
       "      <th></th>\n",
       "      <th>ingredients</th>\n",
       "      <th>allergen</th>\n",
       "    </tr>\n",
       "  </thead>\n",
       "  <tbody>\n",
       "    <tr>\n",
       "      <th>0</th>\n",
       "      <td>aqua water niacinamide zinc pca tamarindus in...</td>\n",
       "      <td>Tidak</td>\n",
       "    </tr>\n",
       "    <tr>\n",
       "      <th>1</th>\n",
       "      <td>aqua allantoin edta niacinamide hydroxyethylc...</td>\n",
       "      <td>Tidak</td>\n",
       "    </tr>\n",
       "    <tr>\n",
       "      <th>2</th>\n",
       "      <td>aqua propylene glycol niacinamide ethyl alcoho...</td>\n",
       "      <td>Ya</td>\n",
       "    </tr>\n",
       "    <tr>\n",
       "      <th>3</th>\n",
       "      <td>kakadu plum lemon niacinamide papaya aloe vera</td>\n",
       "      <td>Tidak</td>\n",
       "    </tr>\n",
       "    <tr>\n",
       "      <th>4</th>\n",
       "      <td>snail secretion filtrate betaine butylene gly...</td>\n",
       "      <td>Tidak</td>\n",
       "    </tr>\n",
       "    <tr>\n",
       "      <th>...</th>\n",
       "      <td>...</td>\n",
       "      <td>...</td>\n",
       "    </tr>\n",
       "    <tr>\n",
       "      <th>204</th>\n",
       "      <td>aqua glyceryl stearate glycerin caprylic capri...</td>\n",
       "      <td>Tidak</td>\n",
       "    </tr>\n",
       "    <tr>\n",
       "      <th>205</th>\n",
       "      <td>water disodium edta glycerin butylene glycol ...</td>\n",
       "      <td>Tidak</td>\n",
       "    </tr>\n",
       "    <tr>\n",
       "      <th>206</th>\n",
       "      <td>water methylpropanediol butylene glycol slip ...</td>\n",
       "      <td>Tidak</td>\n",
       "    </tr>\n",
       "    <tr>\n",
       "      <th>207</th>\n",
       "      <td>aqua glyceryl stearate cetyl alcohol stearyl a...</td>\n",
       "      <td>Ya</td>\n",
       "    </tr>\n",
       "    <tr>\n",
       "      <th>208</th>\n",
       "      <td>water aqua juglans regia walnut shell powder ...</td>\n",
       "      <td>Tidak</td>\n",
       "    </tr>\n",
       "  </tbody>\n",
       "</table>\n",
       "<p>209 rows × 2 columns</p>\n",
       "</div>"
      ],
      "text/plain": [
       "                                           ingredients allergen\n",
       "0     aqua water niacinamide zinc pca tamarindus in...    Tidak\n",
       "1     aqua allantoin edta niacinamide hydroxyethylc...    Tidak\n",
       "2    aqua propylene glycol niacinamide ethyl alcoho...       Ya\n",
       "3      kakadu plum lemon niacinamide papaya aloe vera     Tidak\n",
       "4     snail secretion filtrate betaine butylene gly...    Tidak\n",
       "..                                                 ...      ...\n",
       "204  aqua glyceryl stearate glycerin caprylic capri...    Tidak\n",
       "205   water disodium edta glycerin butylene glycol ...    Tidak\n",
       "206   water methylpropanediol butylene glycol slip ...    Tidak\n",
       "207  aqua glyceryl stearate cetyl alcohol stearyl a...       Ya\n",
       "208   water aqua juglans regia walnut shell powder ...    Tidak\n",
       "\n",
       "[209 rows x 2 columns]"
      ]
     },
     "execution_count": 273,
     "metadata": {},
     "output_type": "execute_result"
    }
   ],
   "source": [
    "key['allergen'] = key['ingredients'].str.contains('benzyl alcohol|benzyl salicylate|citral|citronellol|eugenol|geraniol|linalool|methylisothiazolinone|methylchloroisothiazolinone|dmdm hydantoin|imidazolidinyl urea|sodium hydroxymethylglycinate|parfum|parfume').map({True: 'Ya', False: 'Tidak'})\n",
    "key"
   ]
  },
  {
   "cell_type": "code",
   "execution_count": 274,
   "id": "pVsBevdZSW-m",
   "metadata": {
    "colab": {
     "base_uri": "https://localhost:8080/",
     "height": 49
    },
    "id": "pVsBevdZSW-m",
    "outputId": "f1becfa7-54fa-4f22-e54d-18f10ea7f388"
   },
   "outputs": [
    {
     "data": {
      "text/html": [
       "<div>\n",
       "<style scoped>\n",
       "    .dataframe tbody tr th:only-of-type {\n",
       "        vertical-align: middle;\n",
       "    }\n",
       "\n",
       "    .dataframe tbody tr th {\n",
       "        vertical-align: top;\n",
       "    }\n",
       "\n",
       "    .dataframe thead th {\n",
       "        text-align: right;\n",
       "    }\n",
       "</style>\n",
       "<table border=\"1\" class=\"dataframe\">\n",
       "  <thead>\n",
       "    <tr style=\"text-align: right;\">\n",
       "      <th></th>\n",
       "      <th>ingredients</th>\n",
       "      <th>allergen</th>\n",
       "    </tr>\n",
       "  </thead>\n",
       "  <tbody>\n",
       "  </tbody>\n",
       "</table>\n",
       "</div>"
      ],
      "text/plain": [
       "Empty DataFrame\n",
       "Columns: [ingredients, allergen]\n",
       "Index: []"
      ]
     },
     "execution_count": 274,
     "metadata": {},
     "output_type": "execute_result"
    }
   ],
   "source": [
    "key[key['allergen'].isna()]"
   ]
  },
  {
   "cell_type": "code",
   "execution_count": 275,
   "id": "DUm82gFJIOE6",
   "metadata": {
    "colab": {
     "base_uri": "https://localhost:8080/"
    },
    "id": "DUm82gFJIOE6",
    "outputId": "f7c9bd02-7cc9-427d-b294-8383db1290fc"
   },
   "outputs": [
    {
     "data": {
      "text/plain": [
       "38"
      ]
     },
     "execution_count": 275,
     "metadata": {},
     "output_type": "execute_result"
    }
   ],
   "source": [
    "len(key[key['allergen'] == 'Ya'])"
   ]
  },
  {
   "cell_type": "code",
   "execution_count": 276,
   "id": "8Kcq9eboNV6p",
   "metadata": {
    "colab": {
     "base_uri": "https://localhost:8080/",
     "height": 337
    },
    "id": "8Kcq9eboNV6p",
    "outputId": "166defd2-79d5-48b9-ca30-3109d133a769"
   },
   "outputs": [
    {
     "data": {
      "text/html": [
       "<div>\n",
       "<style scoped>\n",
       "    .dataframe tbody tr th:only-of-type {\n",
       "        vertical-align: middle;\n",
       "    }\n",
       "\n",
       "    .dataframe tbody tr th {\n",
       "        vertical-align: top;\n",
       "    }\n",
       "\n",
       "    .dataframe thead th {\n",
       "        text-align: right;\n",
       "    }\n",
       "</style>\n",
       "<table border=\"1\" class=\"dataframe\">\n",
       "  <thead>\n",
       "    <tr style=\"text-align: right;\">\n",
       "      <th></th>\n",
       "      <th>RATING</th>\n",
       "      <th>CATEGORY</th>\n",
       "      <th>PRODUCT</th>\n",
       "      <th>BRAND</th>\n",
       "      <th>DESC</th>\n",
       "      <th>PRICE</th>\n",
       "      <th>skin_type</th>\n",
       "      <th>keywords</th>\n",
       "      <th>allergen</th>\n",
       "    </tr>\n",
       "  </thead>\n",
       "  <tbody>\n",
       "    <tr>\n",
       "      <th>0</th>\n",
       "      <td>4.0</td>\n",
       "      <td>serum</td>\n",
       "      <td>Niacinamide 10% + Zinc 1%</td>\n",
       "      <td>The Ordinary</td>\n",
       "      <td>The Ordinary Niacinamide 10% + Zinc 1% menyama...</td>\n",
       "      <td>157000</td>\n",
       "      <td>normal</td>\n",
       "      <td>wajah , bekas jerawat , menyamarkan noda , bek...</td>\n",
       "      <td>Tidak</td>\n",
       "    </tr>\n",
       "    <tr>\n",
       "      <th>1</th>\n",
       "      <td>4.3</td>\n",
       "      <td>serum</td>\n",
       "      <td>Niacinamide + Moisture Beet Serum</td>\n",
       "      <td>Somethinc</td>\n",
       "      <td>Somethinc Niacinamide + Moisture Beet Serum me...</td>\n",
       "      <td>115000</td>\n",
       "      <td>semua</td>\n",
       "      <td>mengatasi , kulit , menyamarkan noda , kulit k...</td>\n",
       "      <td>Tidak</td>\n",
       "    </tr>\n",
       "    <tr>\n",
       "      <th>2</th>\n",
       "      <td>4.7</td>\n",
       "      <td>serum</td>\n",
       "      <td>N10-Dose+ Brightening Serum</td>\n",
       "      <td>Whitelab</td>\n",
       "      <td>Whitelab N10-Dose+ Brightening Serum merupakan...</td>\n",
       "      <td>75000</td>\n",
       "      <td>semua</td>\n",
       "      <td>kulit , menyamarkan , mencerahkan , wajah , be...</td>\n",
       "      <td>Ya</td>\n",
       "    </tr>\n",
       "    <tr>\n",
       "      <th>3</th>\n",
       "      <td>4.8</td>\n",
       "      <td>serum</td>\n",
       "      <td>C White Lightening Serum</td>\n",
       "      <td>Azarine Cosmetics</td>\n",
       "      <td>Azarine Cosmetics C White Lightening Serum ada...</td>\n",
       "      <td>220000</td>\n",
       "      <td>semua</td>\n",
       "      <td>kulit , mencerahkan kulit , mengurangi , diper...</td>\n",
       "      <td>Tidak</td>\n",
       "    </tr>\n",
       "    <tr>\n",
       "      <th>4</th>\n",
       "      <td>4.3</td>\n",
       "      <td>serum</td>\n",
       "      <td>Advanced Snail 96 Mucin Power Essence</td>\n",
       "      <td>Cosrx</td>\n",
       "      <td>Cosrx Advanced Snail 96 Mucin Power Essence di...</td>\n",
       "      <td>47500</td>\n",
       "      <td>semua</td>\n",
       "      <td>tekstur , kulit , sehat , menyerap , kelembapa...</td>\n",
       "      <td>Tidak</td>\n",
       "    </tr>\n",
       "  </tbody>\n",
       "</table>\n",
       "</div>"
      ],
      "text/plain": [
       "   RATING CATEGORY                                PRODUCT              BRAND  \\\n",
       "0     4.0    serum              Niacinamide 10% + Zinc 1%       The Ordinary   \n",
       "1     4.3    serum      Niacinamide + Moisture Beet Serum          Somethinc   \n",
       "2     4.7    serum            N10-Dose+ Brightening Serum           Whitelab   \n",
       "3     4.8    serum               C White Lightening Serum  Azarine Cosmetics   \n",
       "4     4.3    serum  Advanced Snail 96 Mucin Power Essence              Cosrx   \n",
       "\n",
       "                                                DESC   PRICE skin_type  \\\n",
       "0  The Ordinary Niacinamide 10% + Zinc 1% menyama...  157000    normal   \n",
       "1  Somethinc Niacinamide + Moisture Beet Serum me...  115000     semua   \n",
       "2  Whitelab N10-Dose+ Brightening Serum merupakan...   75000     semua   \n",
       "3  Azarine Cosmetics C White Lightening Serum ada...  220000     semua   \n",
       "4  Cosrx Advanced Snail 96 Mucin Power Essence di...   47500     semua   \n",
       "\n",
       "                                            keywords allergen  \n",
       "0  wajah , bekas jerawat , menyamarkan noda , bek...    Tidak  \n",
       "1  mengatasi , kulit , menyamarkan noda , kulit k...    Tidak  \n",
       "2  kulit , menyamarkan , mencerahkan , wajah , be...       Ya  \n",
       "3  kulit , mencerahkan kulit , mengurangi , diper...    Tidak  \n",
       "4  tekstur , kulit , sehat , menyerap , kelembapa...    Tidak  "
      ]
     },
     "execution_count": 276,
     "metadata": {},
     "output_type": "execute_result"
    }
   ],
   "source": [
    "df = pd.merge(df, key['allergen'], left_index=True, right_index=True, how='inner')\n",
    "df.head()"
   ]
  },
  {
   "cell_type": "markdown",
   "id": "D-d5oFWSOwYM",
   "metadata": {
    "id": "D-d5oFWSOwYM"
   },
   "source": [
    "---"
   ]
  },
  {
   "cell_type": "markdown",
   "id": "z0l1WTruMPpn",
   "metadata": {
    "id": "z0l1WTruMPpn"
   },
   "source": [
    "# **IV. Cosine Similarity**"
   ]
  },
  {
   "cell_type": "code",
   "execution_count": 277,
   "id": "JlbBotADC4Nl",
   "metadata": {
    "id": "JlbBotADC4Nl"
   },
   "outputs": [],
   "source": [
    "from sklearn.metrics.pairwise import cosine_similarity\n",
    "from sklearn.feature_extraction.text import TfidfVectorizer"
   ]
  },
  {
   "cell_type": "code",
   "execution_count": 278,
   "id": "wqLK58xjL1K-",
   "metadata": {
    "colab": {
     "base_uri": "https://localhost:8080/"
    },
    "id": "wqLK58xjL1K-",
    "outputId": "fd3d93de-fce4-4008-e2ab-b843159959d4"
   },
   "outputs": [
    {
     "name": "stdout",
     "output_type": "stream",
     "text": [
      "Time taken: 0.002087116241455078 seconds\n"
     ]
    }
   ],
   "source": [
    "# Record start time\n",
    "import time\n",
    "start = time.time()\n",
    "\n",
    "skin_type = df['skin_type'].unique()\n",
    "keywords_list = df['keywords'].unique()\n",
    "\n",
    "def recommend(description, allergen=None):\n",
    "    # Convert user input to lowercase\n",
    "    description = description.lower()\n",
    "\n",
    "    data = df.copy()\n",
    "\n",
    "    # Extract skin type\n",
    "    st_input = []\n",
    "    for st in skin_type:\n",
    "        if st in description:\n",
    "            st_input.append(st)\n",
    "            description = description.replace(st, \"\")\n",
    "\n",
    "    res_st = ''.join(st_input)\n",
    "\n",
    "    for i in description.split():\n",
    "        if i == 'berjerawat':\n",
    "            data = data[data['CATEGORY'] != 'peeling']\n",
    "\n",
    "    # Extract keyword\n",
    "    keyword_input = []\n",
    "    for keyword in keywords_list:\n",
    "        if keyword in description:\n",
    "            keyword_input.append(keyword)\n",
    "            description = description.replace(keyword, \"\")\n",
    "\n",
    "    if keyword_input:\n",
    "      data = data[data['keywords'].isin(keyword_input)]\n",
    "\n",
    "    # Filtering allergen products\n",
    "    if allergen == 'Ya':\n",
    "      data = data[data['allergen'] == 'Tidak']\n",
    "\n",
    "    # Init a TF-IDF vectorizer\n",
    "    tfidfvec = TfidfVectorizer()\n",
    "\n",
    "    #  Fit data on processed keywords\n",
    "    vec = tfidfvec.fit(data[\"keywords\"])\n",
    "    features = vec.transform(data[\"keywords\"])\n",
    "\n",
    "    # Transform user input data based on fitted model\n",
    "    description_vector =  vec.transform([description])\n",
    "\n",
    "    # Calculate cosine similarities between users processed input and keywords\n",
    "    cos_sim = cosine_similarity(description_vector, features)\n",
    "\n",
    "    # Add similarities to data frame\n",
    "    data['similarity'] = cos_sim[0]\n",
    "\n",
    "    # Sort data frame by similarities\n",
    "    data.sort_values(by='similarity', ascending=False, inplace=True)\n",
    "\n",
    "    data = data[['RATING', 'CATEGORY', 'PRODUCT', 'BRAND', 'DESC', 'PRICE', 'skin_type', 'similarity', 'allergen']]\n",
    "\n",
    "    result = data[(data['similarity'] > 0.25) & ((data['skin_type'].str.contains(res_st)) | (data['skin_type'] == 'semua'))]\n",
    "\n",
    "    print(f'Hasil rekomendasi TF-IDF & Cosine Similarity: {len(result)}\\n')\n",
    "\n",
    "    return result\n",
    "\n",
    "print(\"Time taken: %s seconds\" % (time.time() - start))"
   ]
  },
  {
   "cell_type": "code",
   "execution_count": 279,
   "id": "MegzLJ_9FkkI",
   "metadata": {
    "colab": {
     "base_uri": "https://localhost:8080/",
     "height": 1000
    },
    "id": "MegzLJ_9FkkI",
    "outputId": "c1495feb-3e9f-493c-981e-d4fbf55179d7"
   },
   "outputs": [
    {
     "name": "stdout",
     "output_type": "stream",
     "text": [
      "Hasil rekomendasi TF-IDF & Cosine Similarity: 15\n",
      "\n"
     ]
    },
    {
     "data": {
      "text/html": [
       "<div>\n",
       "<style scoped>\n",
       "    .dataframe tbody tr th:only-of-type {\n",
       "        vertical-align: middle;\n",
       "    }\n",
       "\n",
       "    .dataframe tbody tr th {\n",
       "        vertical-align: top;\n",
       "    }\n",
       "\n",
       "    .dataframe thead th {\n",
       "        text-align: right;\n",
       "    }\n",
       "</style>\n",
       "<table border=\"1\" class=\"dataframe\">\n",
       "  <thead>\n",
       "    <tr style=\"text-align: right;\">\n",
       "      <th></th>\n",
       "      <th>RATING</th>\n",
       "      <th>CATEGORY</th>\n",
       "      <th>PRODUCT</th>\n",
       "      <th>BRAND</th>\n",
       "      <th>DESC</th>\n",
       "      <th>PRICE</th>\n",
       "      <th>skin_type</th>\n",
       "      <th>similarity</th>\n",
       "      <th>allergen</th>\n",
       "    </tr>\n",
       "  </thead>\n",
       "  <tbody>\n",
       "    <tr>\n",
       "      <th>172</th>\n",
       "      <td>4.5</td>\n",
       "      <td>peeling</td>\n",
       "      <td>NovAge ProCeuticals 6% AHA Peel Solution</td>\n",
       "      <td>Oriflame</td>\n",
       "      <td>Oriflame NovAge ProCeuticals 6% AHA Peel Solut...</td>\n",
       "      <td>299000</td>\n",
       "      <td>semua</td>\n",
       "      <td>0.816592</td>\n",
       "      <td>Tidak</td>\n",
       "    </tr>\n",
       "    <tr>\n",
       "      <th>163</th>\n",
       "      <td>4.7</td>\n",
       "      <td>peeling</td>\n",
       "      <td>Dead Skin Cell Remover</td>\n",
       "      <td>Envygreen</td>\n",
       "      <td>Envygreen Dead Skin Cell Remover merupakan pee...</td>\n",
       "      <td>56000</td>\n",
       "      <td>semua</td>\n",
       "      <td>0.769356</td>\n",
       "      <td>Tidak</td>\n",
       "    </tr>\n",
       "    <tr>\n",
       "      <th>159</th>\n",
       "      <td>4.2</td>\n",
       "      <td>peeling</td>\n",
       "      <td>Clear C Peeling Serum</td>\n",
       "      <td>Laneige</td>\n",
       "      <td>Laneige Clear C Peeling Serum adalah serum den...</td>\n",
       "      <td>300000</td>\n",
       "      <td>kering</td>\n",
       "      <td>0.729279</td>\n",
       "      <td>Tidak</td>\n",
       "    </tr>\n",
       "    <tr>\n",
       "      <th>207</th>\n",
       "      <td>3.7</td>\n",
       "      <td>scrub</td>\n",
       "      <td>White Secret Exfoliating Lotion</td>\n",
       "      <td>Wardah</td>\n",
       "      <td>Wardah Exfoliating Lotion merupakan lotion yan...</td>\n",
       "      <td>70000</td>\n",
       "      <td>semua</td>\n",
       "      <td>0.688667</td>\n",
       "      <td>Ya</td>\n",
       "    </tr>\n",
       "    <tr>\n",
       "      <th>202</th>\n",
       "      <td>3.3</td>\n",
       "      <td>scrub</td>\n",
       "      <td>Lightening Gentle Exfoliator</td>\n",
       "      <td>Wardah</td>\n",
       "      <td>Wardah Lightening Gentle Exfoliator merupakan ...</td>\n",
       "      <td>98000</td>\n",
       "      <td>semua</td>\n",
       "      <td>0.650550</td>\n",
       "      <td>Tidak</td>\n",
       "    </tr>\n",
       "    <tr>\n",
       "      <th>197</th>\n",
       "      <td>4.2</td>\n",
       "      <td>scrub</td>\n",
       "      <td>AHA 7 Whitehead Power Liquid</td>\n",
       "      <td>Cosrx</td>\n",
       "      <td>Cosrx AHA 7 Whitehead Power Liquid merupakan c...</td>\n",
       "      <td>205000</td>\n",
       "      <td>semua</td>\n",
       "      <td>0.591485</td>\n",
       "      <td>Tidak</td>\n",
       "    </tr>\n",
       "    <tr>\n",
       "      <th>64</th>\n",
       "      <td>3.6</td>\n",
       "      <td>night cream</td>\n",
       "      <td>White Secret Night Cream - Discontinued</td>\n",
       "      <td>Wardah</td>\n",
       "      <td>Wardah White Secret Night Cream adalah krim ma...</td>\n",
       "      <td>98000</td>\n",
       "      <td>semua</td>\n",
       "      <td>0.555340</td>\n",
       "      <td>Tidak</td>\n",
       "    </tr>\n",
       "    <tr>\n",
       "      <th>7</th>\n",
       "      <td>4.1</td>\n",
       "      <td>serum</td>\n",
       "      <td>Facial Treatment Essence</td>\n",
       "      <td>SK-II</td>\n",
       "      <td>SK-II Facial Treatment Essence adalah Miracle ...</td>\n",
       "      <td>1825000</td>\n",
       "      <td>semua</td>\n",
       "      <td>0.450191</td>\n",
       "      <td>Tidak</td>\n",
       "    </tr>\n",
       "    <tr>\n",
       "      <th>170</th>\n",
       "      <td>4.1</td>\n",
       "      <td>peeling</td>\n",
       "      <td>Age Defy Deep Exfoliator</td>\n",
       "      <td>Safi</td>\n",
       "      <td>KASMARAN Triple Acid with Skinperf Peeling Sol...</td>\n",
       "      <td>46800</td>\n",
       "      <td>semua</td>\n",
       "      <td>0.442443</td>\n",
       "      <td>Tidak</td>\n",
       "    </tr>\n",
       "    <tr>\n",
       "      <th>194</th>\n",
       "      <td>4.3</td>\n",
       "      <td>scrub</td>\n",
       "      <td>Lemon Bright PHA Gauze Peeling</td>\n",
       "      <td>Neogen</td>\n",
       "      <td>Neoge Bio-Peel Gauze Peeling Lemon dikemas dal...</td>\n",
       "      <td>69000</td>\n",
       "      <td>semua</td>\n",
       "      <td>0.399517</td>\n",
       "      <td>Tidak</td>\n",
       "    </tr>\n",
       "    <tr>\n",
       "      <th>169</th>\n",
       "      <td>3.9</td>\n",
       "      <td>peeling</td>\n",
       "      <td>Peeling Kulit Kerang</td>\n",
       "      <td>Mustika Ratu</td>\n",
       "      <td>Mustika Ratu Peeling Kulit Kerang merupakan pe...</td>\n",
       "      <td>9200</td>\n",
       "      <td>semua</td>\n",
       "      <td>0.349488</td>\n",
       "      <td>Tidak</td>\n",
       "    </tr>\n",
       "    <tr>\n",
       "      <th>167</th>\n",
       "      <td>5.0</td>\n",
       "      <td>peeling</td>\n",
       "      <td>Invisipeel Soft Peel Essential Series</td>\n",
       "      <td>Everose</td>\n",
       "      <td>Everose Invisipeel Soft Peel Essential Series ...</td>\n",
       "      <td>66000</td>\n",
       "      <td>semua</td>\n",
       "      <td>0.346865</td>\n",
       "      <td>Tidak</td>\n",
       "    </tr>\n",
       "    <tr>\n",
       "      <th>146</th>\n",
       "      <td>4.2</td>\n",
       "      <td>toner</td>\n",
       "      <td>Glow Tonic</td>\n",
       "      <td>Pixi</td>\n",
       "      <td>Pixi Glow tonic adalah toner yang mengandung G...</td>\n",
       "      <td>120000</td>\n",
       "      <td>semua</td>\n",
       "      <td>0.337797</td>\n",
       "      <td>Tidak</td>\n",
       "    </tr>\n",
       "    <tr>\n",
       "      <th>204</th>\n",
       "      <td>4.4</td>\n",
       "      <td>scrub</td>\n",
       "      <td>White Expert Deep Exfoliator</td>\n",
       "      <td>Safi</td>\n",
       "      <td>SAFI White Expert Deep Exfoliator adalah pembe...</td>\n",
       "      <td>46800</td>\n",
       "      <td>semua</td>\n",
       "      <td>0.335703</td>\n",
       "      <td>Tidak</td>\n",
       "    </tr>\n",
       "    <tr>\n",
       "      <th>168</th>\n",
       "      <td>4.6</td>\n",
       "      <td>peeling</td>\n",
       "      <td>AHA 7%, BHA 1%, PHA 3% Weekly Peeling Solution</td>\n",
       "      <td>Somethinc</td>\n",
       "      <td>Singkirkan Pori-pori Tersumbat Selamanya!\\nPil...</td>\n",
       "      <td>125000</td>\n",
       "      <td>semua</td>\n",
       "      <td>0.274253</td>\n",
       "      <td>Tidak</td>\n",
       "    </tr>\n",
       "  </tbody>\n",
       "</table>\n",
       "</div>"
      ],
      "text/plain": [
       "     RATING     CATEGORY                                         PRODUCT  \\\n",
       "172     4.5      peeling        NovAge ProCeuticals 6% AHA Peel Solution   \n",
       "163     4.7      peeling                          Dead Skin Cell Remover   \n",
       "159     4.2      peeling                           Clear C Peeling Serum   \n",
       "207     3.7        scrub                 White Secret Exfoliating Lotion   \n",
       "202     3.3        scrub                    Lightening Gentle Exfoliator   \n",
       "197     4.2        scrub                    AHA 7 Whitehead Power Liquid   \n",
       "64      3.6  night cream         White Secret Night Cream - Discontinued   \n",
       "7       4.1        serum                        Facial Treatment Essence   \n",
       "170     4.1      peeling                        Age Defy Deep Exfoliator   \n",
       "194     4.3        scrub                  Lemon Bright PHA Gauze Peeling   \n",
       "169     3.9      peeling                            Peeling Kulit Kerang   \n",
       "167     5.0      peeling           Invisipeel Soft Peel Essential Series   \n",
       "146     4.2        toner                                      Glow Tonic   \n",
       "204     4.4        scrub                    White Expert Deep Exfoliator   \n",
       "168     4.6      peeling  AHA 7%, BHA 1%, PHA 3% Weekly Peeling Solution   \n",
       "\n",
       "            BRAND                                               DESC    PRICE  \\\n",
       "172      Oriflame  Oriflame NovAge ProCeuticals 6% AHA Peel Solut...   299000   \n",
       "163     Envygreen  Envygreen Dead Skin Cell Remover merupakan pee...    56000   \n",
       "159       Laneige  Laneige Clear C Peeling Serum adalah serum den...   300000   \n",
       "207        Wardah  Wardah Exfoliating Lotion merupakan lotion yan...    70000   \n",
       "202        Wardah  Wardah Lightening Gentle Exfoliator merupakan ...    98000   \n",
       "197         Cosrx  Cosrx AHA 7 Whitehead Power Liquid merupakan c...   205000   \n",
       "64         Wardah  Wardah White Secret Night Cream adalah krim ma...    98000   \n",
       "7           SK-II  SK-II Facial Treatment Essence adalah Miracle ...  1825000   \n",
       "170          Safi  KASMARAN Triple Acid with Skinperf Peeling Sol...    46800   \n",
       "194        Neogen  Neoge Bio-Peel Gauze Peeling Lemon dikemas dal...    69000   \n",
       "169  Mustika Ratu  Mustika Ratu Peeling Kulit Kerang merupakan pe...     9200   \n",
       "167       Everose  Everose Invisipeel Soft Peel Essential Series ...    66000   \n",
       "146          Pixi  Pixi Glow tonic adalah toner yang mengandung G...   120000   \n",
       "204          Safi  SAFI White Expert Deep Exfoliator adalah pembe...    46800   \n",
       "168     Somethinc  Singkirkan Pori-pori Tersumbat Selamanya!\\nPil...   125000   \n",
       "\n",
       "    skin_type  similarity allergen  \n",
       "172     semua    0.816592    Tidak  \n",
       "163     semua    0.769356    Tidak  \n",
       "159    kering    0.729279    Tidak  \n",
       "207     semua    0.688667       Ya  \n",
       "202     semua    0.650550    Tidak  \n",
       "197     semua    0.591485    Tidak  \n",
       "64      semua    0.555340    Tidak  \n",
       "7       semua    0.450191    Tidak  \n",
       "170     semua    0.442443    Tidak  \n",
       "194     semua    0.399517    Tidak  \n",
       "169     semua    0.349488    Tidak  \n",
       "167     semua    0.346865    Tidak  \n",
       "146     semua    0.337797    Tidak  \n",
       "204     semua    0.335703    Tidak  \n",
       "168     semua    0.274253    Tidak  "
      ]
     },
     "execution_count": 279,
     "metadata": {},
     "output_type": "execute_result"
    }
   ],
   "source": [
    "recommend('kulit kering mengangkat sel kulit mati')"
   ]
  },
  {
   "cell_type": "markdown",
   "id": "nshm1BVWVHWb",
   "metadata": {
    "id": "nshm1BVWVHWb"
   },
   "source": [
    "# **V. Validation**"
   ]
  },
  {
   "cell_type": "markdown",
   "id": "48UIB8v6hWYw",
   "metadata": {
    "id": "48UIB8v6hWYw"
   },
   "source": [
    "## 5.1 Cleaning data for validation"
   ]
  },
  {
   "cell_type": "code",
   "execution_count": 280,
   "id": "4SSUtDUFMXc0",
   "metadata": {
    "colab": {
     "base_uri": "https://localhost:8080/",
     "height": 206
    },
    "id": "4SSUtDUFMXc0",
    "outputId": "e35659fa-512a-471e-eade-75b0270d0aba"
   },
   "outputs": [
    {
     "data": {
      "text/html": [
       "<div>\n",
       "<style scoped>\n",
       "    .dataframe tbody tr th:only-of-type {\n",
       "        vertical-align: middle;\n",
       "    }\n",
       "\n",
       "    .dataframe tbody tr th {\n",
       "        vertical-align: top;\n",
       "    }\n",
       "\n",
       "    .dataframe thead th {\n",
       "        text-align: right;\n",
       "    }\n",
       "</style>\n",
       "<table border=\"1\" class=\"dataframe\">\n",
       "  <thead>\n",
       "    <tr style=\"text-align: right;\">\n",
       "      <th></th>\n",
       "      <th>RATING</th>\n",
       "      <th>CATEGORY</th>\n",
       "      <th>PRODUCT</th>\n",
       "      <th>BRAND</th>\n",
       "      <th>DESC</th>\n",
       "      <th>PRICE</th>\n",
       "      <th>skin_type</th>\n",
       "    </tr>\n",
       "  </thead>\n",
       "  <tbody>\n",
       "    <tr>\n",
       "      <th>0</th>\n",
       "      <td>4.0</td>\n",
       "      <td>serum</td>\n",
       "      <td>Niacinamide 10% + Zinc 1%</td>\n",
       "      <td>The Ordinary</td>\n",
       "      <td>the ordinary niacinamide zinc menyamarkan noda...</td>\n",
       "      <td>157000</td>\n",
       "      <td>normal</td>\n",
       "    </tr>\n",
       "    <tr>\n",
       "      <th>1</th>\n",
       "      <td>4.3</td>\n",
       "      <td>serum</td>\n",
       "      <td>Niacinamide + Moisture Beet Serum</td>\n",
       "      <td>Somethinc</td>\n",
       "      <td>somethinc niacinamide moisture beet serum meru...</td>\n",
       "      <td>115000</td>\n",
       "      <td>semua</td>\n",
       "    </tr>\n",
       "    <tr>\n",
       "      <th>2</th>\n",
       "      <td>4.7</td>\n",
       "      <td>serum</td>\n",
       "      <td>N10-Dose+ Brightening Serum</td>\n",
       "      <td>Whitelab</td>\n",
       "      <td>whitelab n dose brightening serum merupakan re...</td>\n",
       "      <td>75000</td>\n",
       "      <td>semua</td>\n",
       "    </tr>\n",
       "    <tr>\n",
       "      <th>3</th>\n",
       "      <td>4.8</td>\n",
       "      <td>serum</td>\n",
       "      <td>C White Lightening Serum</td>\n",
       "      <td>Azarine Cosmetics</td>\n",
       "      <td>azarine cosmetics c white lightening serum ada...</td>\n",
       "      <td>220000</td>\n",
       "      <td>semua</td>\n",
       "    </tr>\n",
       "    <tr>\n",
       "      <th>4</th>\n",
       "      <td>4.3</td>\n",
       "      <td>serum</td>\n",
       "      <td>Advanced Snail 96 Mucin Power Essence</td>\n",
       "      <td>Cosrx</td>\n",
       "      <td>cosrx advanced snail mucin power essence difor...</td>\n",
       "      <td>47500</td>\n",
       "      <td>semua</td>\n",
       "    </tr>\n",
       "  </tbody>\n",
       "</table>\n",
       "</div>"
      ],
      "text/plain": [
       "   RATING CATEGORY                                PRODUCT              BRAND  \\\n",
       "0     4.0    serum              Niacinamide 10% + Zinc 1%       The Ordinary   \n",
       "1     4.3    serum      Niacinamide + Moisture Beet Serum          Somethinc   \n",
       "2     4.7    serum            N10-Dose+ Brightening Serum           Whitelab   \n",
       "3     4.8    serum               C White Lightening Serum  Azarine Cosmetics   \n",
       "4     4.3    serum  Advanced Snail 96 Mucin Power Essence              Cosrx   \n",
       "\n",
       "                                                DESC   PRICE skin_type  \n",
       "0  the ordinary niacinamide zinc menyamarkan noda...  157000    normal  \n",
       "1  somethinc niacinamide moisture beet serum meru...  115000     semua  \n",
       "2  whitelab n dose brightening serum merupakan re...   75000     semua  \n",
       "3  azarine cosmetics c white lightening serum ada...  220000     semua  \n",
       "4  cosrx advanced snail mucin power essence difor...   47500     semua  "
      ]
     },
     "execution_count": 280,
     "metadata": {},
     "output_type": "execute_result"
    }
   ],
   "source": [
    "st['DESC'] = st['DESC'].apply(lambda x:pre_process(x))\n",
    "st.head()"
   ]
  },
  {
   "cell_type": "markdown",
   "id": "__M1AtOBhixH",
   "metadata": {
    "id": "__M1AtOBhixH"
   },
   "source": [
    "## 5.2 recommended_items"
   ]
  },
  {
   "cell_type": "code",
   "execution_count": 281,
   "id": "jLt14XD6L5rO",
   "metadata": {
    "id": "jLt14XD6L5rO"
   },
   "outputs": [],
   "source": [
    "def recommended_items(a):\n",
    "  lst = []\n",
    "  output = recommend(a)\n",
    "  kolom = output['PRODUCT']\n",
    "  for i in kolom:\n",
    "    lst.append(i)\n",
    "\n",
    "  return lst"
   ]
  },
  {
   "cell_type": "markdown",
   "id": "1yPhzg3dhoW4",
   "metadata": {
    "id": "1yPhzg3dhoW4"
   },
   "source": [
    "## 5.3 relevant_items"
   ]
  },
  {
   "cell_type": "code",
   "execution_count": 282,
   "id": "4eAAHJliM6G4",
   "metadata": {
    "id": "4eAAHJliM6G4"
   },
   "outputs": [],
   "source": [
    "tipe_kulit = st['skin_type'].unique()\n",
    "\n",
    "def relevant_items(deskripsi):\n",
    "\n",
    "    deskripsi = deskripsi.lower().replace('kulit', '', 1).strip()\n",
    "\n",
    "    df = st.copy()\n",
    "\n",
    "    tipe_input = []\n",
    "    for tk in tipe_kulit:\n",
    "        if tk in deskripsi:\n",
    "          tipe_input.append(tk)\n",
    "          deskripsi = deskripsi.replace(tk, \"\")\n",
    "\n",
    "    hasil = ''.join(tipe_input)\n",
    "\n",
    "    lst = []\n",
    "    \n",
    "    output = df[((df['skin_type'].str.contains(hasil)) | (df['skin_type'] == 'semua')) & (df['DESC'].str.contains(deskripsi))]\n",
    "    \n",
    "    kolom = output['PRODUCT']\n",
    "    for i in kolom:\n",
    "        lst.append(i)\n",
    "        \n",
    "    print(f'Hasil rekomendasi Cosine Similarity: {len(output)}\\n')\n",
    "    \n",
    "    return lst"
   ]
  },
  {
   "cell_type": "markdown",
   "id": "9INejWNtht-a",
   "metadata": {
    "id": "9INejWNtht-a"
   },
   "source": [
    "## 5.4 validation"
   ]
  },
  {
   "cell_type": "code",
   "execution_count": 283,
   "id": "Q9GsFY8LT_BN",
   "metadata": {
    "id": "Q9GsFY8LT_BN"
   },
   "outputs": [],
   "source": [
    "def validation(recommended_items, relevant_items):\n",
    "    # Calculate true positives, false positives, true negatives, and false negatives\n",
    "    TP = 0\n",
    "    FP = 0\n",
    "    TN = 0\n",
    "    FN = 0\n",
    "\n",
    "    for item in recommended_items:\n",
    "        if item in relevant_items:\n",
    "            TP += 1\n",
    "        else:\n",
    "            FP += 1\n",
    "\n",
    "    for item in relevant_items:\n",
    "        if item not in recommended_items:\n",
    "            FN += 1\n",
    "\n",
    "    # Calculate true negatives\n",
    "    TN = len(relevant_items) - FN\n",
    "\n",
    "    # Calculate precision, recall, F1-score, and accuracy\n",
    "    precision = TP / (TP + FP)\n",
    "    recall = TP / (TP + FN)\n",
    "    F1 = 2 * (precision * recall) / (precision + recall)\n",
    "    accuracy = (TP + TN) / (TP + TN + FP + FN)\n",
    "    \n",
    "    print(f'TP: {TP}, FP: {FP}, TN: {TN}, FN: {FN}\\n')\n",
    "    print(\"Precision:\", precision)\n",
    "    print(\"Recall:\", recall)\n",
    "    print(\"F1-score:\", F1)\n",
    "    print(\"Accuracy:\", accuracy)"
   ]
  },
  {
   "cell_type": "code",
   "execution_count": 284,
   "id": "gb-r5_MuV_rD",
   "metadata": {
    "colab": {
     "base_uri": "https://localhost:8080/"
    },
    "id": "gb-r5_MuV_rD",
    "outputId": "a8089199-d786-4350-ca89-83fc01a34b4a",
    "scrolled": true
   },
   "outputs": [
    {
     "name": "stdout",
     "output_type": "stream",
     "text": [
      "Hasil rekomendasi TF-IDF & Cosine Similarity: 19\n",
      "\n",
      "Hasil rekomendasi Cosine Similarity: 14\n",
      "\n",
      "TP: 14, FP: 5, TN: 14, FN: 0\n",
      "\n",
      "Precision: 0.7368421052631579\n",
      "Recall: 1.0\n",
      "F1-score: 0.8484848484848484\n",
      "Accuracy: 0.8484848484848485\n"
     ]
    }
   ],
   "source": [
    "validation(recommended_items('kulit kering menyamarkan noda'), relevant_items('kulit kering menyamarkan noda'))"
   ]
  },
  {
   "cell_type": "code",
   "execution_count": 285,
   "id": "7e6743fc",
   "metadata": {},
   "outputs": [
    {
     "name": "stdout",
     "output_type": "stream",
     "text": [
      "Hasil rekomendasi TF-IDF & Cosine Similarity: 17\n",
      "\n",
      "Hasil rekomendasi Cosine Similarity: 12\n",
      "\n",
      "TP: 12, FP: 5, TN: 12, FN: 0\n",
      "\n",
      "Precision: 0.7058823529411765\n",
      "Recall: 1.0\n",
      "F1-score: 0.8275862068965517\n",
      "Accuracy: 0.8275862068965517\n"
     ]
    }
   ],
   "source": [
    "validation(recommended_items('kulit berminyak menyamarkan noda'), relevant_items('kulit berminyak menyamarkan noda'))"
   ]
  },
  {
   "cell_type": "code",
   "execution_count": 286,
   "id": "d474a235",
   "metadata": {},
   "outputs": [
    {
     "name": "stdout",
     "output_type": "stream",
     "text": [
      "Hasil rekomendasi TF-IDF & Cosine Similarity: 17\n",
      "\n",
      "Hasil rekomendasi Cosine Similarity: 8\n",
      "\n",
      "TP: 8, FP: 9, TN: 8, FN: 0\n",
      "\n",
      "Precision: 0.47058823529411764\n",
      "Recall: 1.0\n",
      "F1-score: 0.6399999999999999\n",
      "Accuracy: 0.64\n"
     ]
    }
   ],
   "source": [
    "validation(recommended_items('kulit normal menyamarkan noda hitam'), relevant_items('kulit normal menyamarkan noda hitam'))"
   ]
  },
  {
   "cell_type": "code",
   "execution_count": 287,
   "id": "c5855957",
   "metadata": {},
   "outputs": [
    {
     "name": "stdout",
     "output_type": "stream",
     "text": [
      "Hasil rekomendasi TF-IDF & Cosine Similarity: 17\n",
      "\n",
      "Hasil rekomendasi Cosine Similarity: 9\n",
      "\n",
      "TP: 9, FP: 8, TN: 9, FN: 0\n",
      "\n",
      "Precision: 0.5294117647058824\n",
      "Recall: 1.0\n",
      "F1-score: 0.6923076923076924\n",
      "Accuracy: 0.6923076923076923\n"
     ]
    }
   ],
   "source": [
    "validation(recommended_items('kulit sensitif menyamarkan noda hitam'), relevant_items('kulit sensitif menyamarkan noda hitam'))"
   ]
  },
  {
   "cell_type": "code",
   "execution_count": 288,
   "id": "79aa05d8",
   "metadata": {},
   "outputs": [
    {
     "name": "stdout",
     "output_type": "stream",
     "text": [
      "Hasil rekomendasi TF-IDF & Cosine Similarity: 18\n",
      "\n",
      "Hasil rekomendasi Cosine Similarity: 8\n",
      "\n",
      "TP: 8, FP: 10, TN: 8, FN: 0\n",
      "\n",
      "Precision: 0.4444444444444444\n",
      "Recall: 1.0\n",
      "F1-score: 0.6153846153846153\n",
      "Accuracy: 0.6153846153846154\n"
     ]
    }
   ],
   "source": [
    "validation(recommended_items('kulit kombinasi menyamarkan noda hitam'), relevant_items('kulit kombinasi menyamarkan noda hitam'))"
   ]
  },
  {
   "cell_type": "code",
   "execution_count": 289,
   "id": "b9qjDJOjcbwS",
   "metadata": {
    "colab": {
     "base_uri": "https://localhost:8080/"
    },
    "id": "b9qjDJOjcbwS",
    "outputId": "2cc12b42-ac63-40a5-ae5e-0ea7147befe5"
   },
   "outputs": [
    {
     "name": "stdout",
     "output_type": "stream",
     "text": [
      "Hasil rekomendasi TF-IDF & Cosine Similarity: 21\n",
      "\n",
      "Hasil rekomendasi Cosine Similarity: 16\n",
      "\n",
      "TP: 14, FP: 7, TN: 14, FN: 2\n",
      "\n",
      "Precision: 0.6666666666666666\n",
      "Recall: 0.875\n",
      "F1-score: 0.7567567567567567\n",
      "Accuracy: 0.7567567567567568\n"
     ]
    }
   ],
   "source": [
    "validation(recommended_items('kulit kering mencerahkan kulit'), relevant_items('kulit kering mencerahkan kulit'))"
   ]
  },
  {
   "cell_type": "code",
   "execution_count": 290,
   "id": "e7143e7b",
   "metadata": {},
   "outputs": [
    {
     "name": "stdout",
     "output_type": "stream",
     "text": [
      "Hasil rekomendasi TF-IDF & Cosine Similarity: 18\n",
      "\n",
      "Hasil rekomendasi Cosine Similarity: 14\n",
      "\n",
      "TP: 14, FP: 4, TN: 13, FN: 1\n",
      "\n",
      "Precision: 0.7777777777777778\n",
      "Recall: 0.9333333333333333\n",
      "F1-score: 0.8484848484848485\n",
      "Accuracy: 0.84375\n"
     ]
    }
   ],
   "source": [
    "validation(recommended_items('kulit berminyak mencerahkan kulit'), relevant_items('kulit berminyak mencerahkan kulit'))"
   ]
  },
  {
   "cell_type": "code",
   "execution_count": 291,
   "id": "27008d88",
   "metadata": {},
   "outputs": [
    {
     "name": "stdout",
     "output_type": "stream",
     "text": [
      "Hasil rekomendasi TF-IDF & Cosine Similarity: 16\n",
      "\n",
      "Hasil rekomendasi Cosine Similarity: 15\n",
      "\n",
      "TP: 14, FP: 2, TN: 14, FN: 1\n",
      "\n",
      "Precision: 0.875\n",
      "Recall: 0.9333333333333333\n",
      "F1-score: 0.9032258064516129\n",
      "Accuracy: 0.9032258064516129\n"
     ]
    }
   ],
   "source": [
    "validation(recommended_items('kulit normal mencerahkan kulit'), relevant_items('kulit normal mencerahkan kulit'))"
   ]
  },
  {
   "cell_type": "code",
   "execution_count": 292,
   "id": "b7fa0f28",
   "metadata": {},
   "outputs": [
    {
     "name": "stdout",
     "output_type": "stream",
     "text": [
      "Hasil rekomendasi TF-IDF & Cosine Similarity: 14\n",
      "\n",
      "Hasil rekomendasi Cosine Similarity: 14\n",
      "\n",
      "TP: 12, FP: 2, TN: 12, FN: 2\n",
      "\n",
      "Precision: 0.8571428571428571\n",
      "Recall: 0.8571428571428571\n",
      "F1-score: 0.8571428571428571\n",
      "Accuracy: 0.8571428571428571\n"
     ]
    }
   ],
   "source": [
    "validation(recommended_items('kulit sensitif mencerahkan kulit'), relevant_items('kulit sensitif mencerahkan kulit'))"
   ]
  },
  {
   "cell_type": "code",
   "execution_count": 293,
   "id": "78d66463",
   "metadata": {},
   "outputs": [
    {
     "name": "stdout",
     "output_type": "stream",
     "text": [
      "Hasil rekomendasi TF-IDF & Cosine Similarity: 14\n",
      "\n",
      "Hasil rekomendasi Cosine Similarity: 14\n",
      "\n",
      "TP: 12, FP: 2, TN: 12, FN: 2\n",
      "\n",
      "Precision: 0.8571428571428571\n",
      "Recall: 0.8571428571428571\n",
      "F1-score: 0.8571428571428571\n",
      "Accuracy: 0.8571428571428571\n"
     ]
    }
   ],
   "source": [
    "validation(recommended_items('kulit kombinasi mencerahkan kulit'), relevant_items('kulit kombinasi mencerahkan kulit'))"
   ]
  },
  {
   "cell_type": "code",
   "execution_count": 294,
   "id": "2un2N_TldSU0",
   "metadata": {
    "colab": {
     "base_uri": "https://localhost:8080/"
    },
    "id": "2un2N_TldSU0",
    "outputId": "b6386e41-9ce1-46be-bc01-93f1cf9c9276",
    "scrolled": true
   },
   "outputs": [
    {
     "name": "stdout",
     "output_type": "stream",
     "text": [
      "Hasil rekomendasi TF-IDF & Cosine Similarity: 10\n",
      "\n",
      "Hasil rekomendasi Cosine Similarity: 10\n",
      "\n",
      "TP: 10, FP: 0, TN: 10, FN: 0\n",
      "\n",
      "Precision: 1.0\n",
      "Recall: 1.0\n",
      "F1-score: 1.0\n",
      "Accuracy: 1.0\n"
     ]
    }
   ],
   "source": [
    "validation(recommended_items('kulit berminyak minyak berlebih'), relevant_items('kulit berminyak minyak berlebih'))"
   ]
  },
  {
   "cell_type": "code",
   "execution_count": 295,
   "id": "ae0d6282",
   "metadata": {},
   "outputs": [
    {
     "name": "stdout",
     "output_type": "stream",
     "text": [
      "Hasil rekomendasi TF-IDF & Cosine Similarity: 17\n",
      "\n",
      "Hasil rekomendasi Cosine Similarity: 29\n",
      "\n",
      "TP: 17, FP: 0, TN: 17, FN: 12\n",
      "\n",
      "Precision: 1.0\n",
      "Recall: 0.5862068965517241\n",
      "F1-score: 0.7391304347826086\n",
      "Accuracy: 0.7391304347826086\n"
     ]
    }
   ],
   "source": [
    "validation(recommended_items('kulit kering melembabkan'), relevant_items('kulit kering melembabkan'))"
   ]
  },
  {
   "cell_type": "code",
   "execution_count": 296,
   "id": "4aede978",
   "metadata": {},
   "outputs": [
    {
     "name": "stdout",
     "output_type": "stream",
     "text": [
      "Hasil rekomendasi TF-IDF & Cosine Similarity: 11\n",
      "\n",
      "Hasil rekomendasi Cosine Similarity: 22\n",
      "\n",
      "TP: 11, FP: 0, TN: 11, FN: 11\n",
      "\n",
      "Precision: 1.0\n",
      "Recall: 0.5\n",
      "F1-score: 0.6666666666666666\n",
      "Accuracy: 0.6666666666666666\n"
     ]
    }
   ],
   "source": [
    "validation(recommended_items('kulit normal melembabkan'), relevant_items('kulit normal melembabkan'))"
   ]
  },
  {
   "cell_type": "code",
   "execution_count": 297,
   "id": "cf109d28",
   "metadata": {},
   "outputs": [
    {
     "name": "stdout",
     "output_type": "stream",
     "text": [
      "Hasil rekomendasi TF-IDF & Cosine Similarity: 11\n",
      "\n",
      "Hasil rekomendasi Cosine Similarity: 24\n",
      "\n",
      "TP: 11, FP: 0, TN: 11, FN: 13\n",
      "\n",
      "Precision: 1.0\n",
      "Recall: 0.4583333333333333\n",
      "F1-score: 0.6285714285714286\n",
      "Accuracy: 0.6285714285714286\n"
     ]
    }
   ],
   "source": [
    "validation(recommended_items('kulit sensitif melembabkan'), relevant_items('kulit sensitif melembabkan'))"
   ]
  },
  {
   "cell_type": "code",
   "execution_count": 298,
   "id": "48baefe3",
   "metadata": {},
   "outputs": [
    {
     "name": "stdout",
     "output_type": "stream",
     "text": [
      "Hasil rekomendasi TF-IDF & Cosine Similarity: 10\n",
      "\n",
      "Hasil rekomendasi Cosine Similarity: 21\n",
      "\n",
      "TP: 10, FP: 0, TN: 10, FN: 11\n",
      "\n",
      "Precision: 1.0\n",
      "Recall: 0.47619047619047616\n",
      "F1-score: 0.6451612903225806\n",
      "Accuracy: 0.6451612903225806\n"
     ]
    }
   ],
   "source": [
    "validation(recommended_items('kulit kombinasi melembabkan'), relevant_items('kulit kombinasi melembabkan'))"
   ]
  },
  {
   "cell_type": "code",
   "execution_count": 299,
   "id": "c3604779",
   "metadata": {},
   "outputs": [
    {
     "name": "stdout",
     "output_type": "stream",
     "text": [
      "Hasil rekomendasi TF-IDF & Cosine Similarity: 15\n",
      "\n",
      "Hasil rekomendasi Cosine Similarity: 20\n",
      "\n",
      "TP: 15, FP: 0, TN: 15, FN: 5\n",
      "\n",
      "Precision: 1.0\n",
      "Recall: 0.75\n",
      "F1-score: 0.8571428571428571\n",
      "Accuracy: 0.8571428571428571\n"
     ]
    }
   ],
   "source": [
    "validation(recommended_items('kulit kering jerawat'), relevant_items('kulit kering jerawat'))"
   ]
  },
  {
   "cell_type": "code",
   "execution_count": 300,
   "id": "467dea9c",
   "metadata": {},
   "outputs": [
    {
     "name": "stdout",
     "output_type": "stream",
     "text": [
      "Hasil rekomendasi TF-IDF & Cosine Similarity: 14\n",
      "\n",
      "Hasil rekomendasi Cosine Similarity: 23\n",
      "\n",
      "TP: 14, FP: 0, TN: 14, FN: 9\n",
      "\n",
      "Precision: 1.0\n",
      "Recall: 0.6086956521739131\n",
      "F1-score: 0.7567567567567568\n",
      "Accuracy: 0.7567567567567568\n"
     ]
    }
   ],
   "source": [
    "validation(recommended_items('kulit berminyak jerawat'), relevant_items('kulit berminyak jerawat'))"
   ]
  },
  {
   "cell_type": "code",
   "execution_count": 301,
   "id": "6d7883e9",
   "metadata": {},
   "outputs": [
    {
     "name": "stdout",
     "output_type": "stream",
     "text": [
      "Hasil rekomendasi TF-IDF & Cosine Similarity: 13\n",
      "\n",
      "Hasil rekomendasi Cosine Similarity: 18\n",
      "\n",
      "TP: 13, FP: 0, TN: 13, FN: 5\n",
      "\n",
      "Precision: 1.0\n",
      "Recall: 0.7222222222222222\n",
      "F1-score: 0.8387096774193548\n",
      "Accuracy: 0.8387096774193549\n"
     ]
    }
   ],
   "source": [
    "validation(recommended_items('kulit normal jerawat'), relevant_items('kulit normal jerawat'))"
   ]
  },
  {
   "cell_type": "code",
   "execution_count": 302,
   "id": "bd1657b4",
   "metadata": {},
   "outputs": [
    {
     "name": "stdout",
     "output_type": "stream",
     "text": [
      "Hasil rekomendasi TF-IDF & Cosine Similarity: 12\n",
      "\n",
      "Hasil rekomendasi Cosine Similarity: 16\n",
      "\n",
      "TP: 12, FP: 0, TN: 12, FN: 4\n",
      "\n",
      "Precision: 1.0\n",
      "Recall: 0.75\n",
      "F1-score: 0.8571428571428571\n",
      "Accuracy: 0.8571428571428571\n"
     ]
    }
   ],
   "source": [
    "validation(recommended_items('kulit sensitif jerawat'), relevant_items('kulit sensitif jerawat'))"
   ]
  },
  {
   "cell_type": "code",
   "execution_count": 303,
   "id": "n5gFAAf6dc7V",
   "metadata": {
    "colab": {
     "base_uri": "https://localhost:8080/"
    },
    "id": "n5gFAAf6dc7V",
    "outputId": "e966de77-77a5-4cf2-d517-f534d9516371",
    "scrolled": false
   },
   "outputs": [
    {
     "name": "stdout",
     "output_type": "stream",
     "text": [
      "Hasil rekomendasi TF-IDF & Cosine Similarity: 10\n",
      "\n",
      "Hasil rekomendasi Cosine Similarity: 13\n",
      "\n",
      "TP: 10, FP: 0, TN: 10, FN: 3\n",
      "\n",
      "Precision: 1.0\n",
      "Recall: 0.7692307692307693\n",
      "F1-score: 0.8695652173913044\n",
      "Accuracy: 0.8695652173913043\n"
     ]
    }
   ],
   "source": [
    "validation(recommended_items('kulit kombinasi jerawat'), relevant_items('kulit kombinasi jerawat'))"
   ]
  },
  {
   "cell_type": "code",
   "execution_count": 304,
   "id": "3d27b020",
   "metadata": {},
   "outputs": [
    {
     "name": "stdout",
     "output_type": "stream",
     "text": [
      "Hasil rekomendasi TF-IDF & Cosine Similarity: 15\n",
      "\n",
      "Hasil rekomendasi Cosine Similarity: 5\n",
      "\n",
      "TP: 5, FP: 10, TN: 5, FN: 0\n",
      "\n",
      "Precision: 0.3333333333333333\n",
      "Recall: 1.0\n",
      "F1-score: 0.5\n",
      "Accuracy: 0.5\n"
     ]
    }
   ],
   "source": [
    "validation(recommended_items('kulit kering mengangkat sel kulit mati'), relevant_items('kulit kering mengangkat sel kulit mati'))"
   ]
  },
  {
   "cell_type": "code",
   "execution_count": 305,
   "id": "1a342936",
   "metadata": {},
   "outputs": [
    {
     "name": "stdout",
     "output_type": "stream",
     "text": [
      "Hasil rekomendasi TF-IDF & Cosine Similarity: 22\n",
      "\n",
      "Hasil rekomendasi Cosine Similarity: 8\n",
      "\n",
      "TP: 8, FP: 14, TN: 8, FN: 0\n",
      "\n",
      "Precision: 0.36363636363636365\n",
      "Recall: 1.0\n",
      "F1-score: 0.5333333333333333\n",
      "Accuracy: 0.5333333333333333\n"
     ]
    }
   ],
   "source": [
    "validation(recommended_items('kulit berminyak mengangkat sel kulit mati'), relevant_items('kulit berminyak mengangkat sel kulit mati'))"
   ]
  },
  {
   "cell_type": "code",
   "execution_count": 306,
   "id": "e197f756",
   "metadata": {},
   "outputs": [
    {
     "name": "stdout",
     "output_type": "stream",
     "text": [
      "Hasil rekomendasi TF-IDF & Cosine Similarity: 16\n",
      "\n",
      "Hasil rekomendasi Cosine Similarity: 6\n",
      "\n",
      "TP: 6, FP: 10, TN: 6, FN: 0\n",
      "\n",
      "Precision: 0.375\n",
      "Recall: 1.0\n",
      "F1-score: 0.5454545454545454\n",
      "Accuracy: 0.5454545454545454\n"
     ]
    }
   ],
   "source": [
    "validation(recommended_items('kulit normal mengangkat sel kulit mati'), relevant_items('kulit normal mengangkat sel kulit mati'))"
   ]
  },
  {
   "cell_type": "code",
   "execution_count": 307,
   "id": "9fcfdd97",
   "metadata": {},
   "outputs": [
    {
     "name": "stdout",
     "output_type": "stream",
     "text": [
      "Hasil rekomendasi TF-IDF & Cosine Similarity: 15\n",
      "\n",
      "Hasil rekomendasi Cosine Similarity: 5\n",
      "\n",
      "TP: 5, FP: 10, TN: 5, FN: 0\n",
      "\n",
      "Precision: 0.3333333333333333\n",
      "Recall: 1.0\n",
      "F1-score: 0.5\n",
      "Accuracy: 0.5\n"
     ]
    }
   ],
   "source": [
    "validation(recommended_items('kulit sensitif mengangkat sel kulit mati'), relevant_items('kulit sensitif mengangkat sel kulit mati'))"
   ]
  },
  {
   "cell_type": "code",
   "execution_count": 308,
   "id": "a44aeaa0",
   "metadata": {},
   "outputs": [
    {
     "name": "stdout",
     "output_type": "stream",
     "text": [
      "Hasil rekomendasi TF-IDF & Cosine Similarity: 15\n",
      "\n",
      "Hasil rekomendasi Cosine Similarity: 5\n",
      "\n",
      "TP: 5, FP: 10, TN: 5, FN: 0\n",
      "\n",
      "Precision: 0.3333333333333333\n",
      "Recall: 1.0\n",
      "F1-score: 0.5\n",
      "Accuracy: 0.5\n"
     ]
    }
   ],
   "source": [
    "validation(recommended_items('kulit kombinasi mengangkat sel kulit mati'), relevant_items('kulit kombinasi mengangkat sel kulit mati'))"
   ]
  },
  {
   "cell_type": "markdown",
   "id": "4-WFuDAh37g-",
   "metadata": {
    "id": "4-WFuDAh37g-",
    "slideshow": {
     "slide_type": "slide"
    }
   },
   "source": [
    "صَدَقَ اللهُ الْعَظِيْمُ"
   ]
  }
 ],
 "metadata": {
  "colab": {
   "provenance": [],
   "toc_visible": true
  },
  "kernelspec": {
   "display_name": "Python 3 (ipykernel)",
   "language": "python",
   "name": "python3"
  },
  "language_info": {
   "codemirror_mode": {
    "name": "ipython",
    "version": 3
   },
   "file_extension": ".py",
   "mimetype": "text/x-python",
   "name": "python",
   "nbconvert_exporter": "python",
   "pygments_lexer": "ipython3",
   "version": "3.9.12"
  }
 },
 "nbformat": 4,
 "nbformat_minor": 5
}
